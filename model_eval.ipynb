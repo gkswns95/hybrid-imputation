{
 "cells": [
  {
   "cell_type": "code",
   "execution_count": 2,
   "metadata": {},
   "outputs": [
    {
     "name": "stdout",
     "output_type": "stream",
     "text": [
      "The autoreload extension is already loaded. To reload it, use:\n",
      "  %reload_ext autoreload\n"
     ]
    }
   ],
   "source": [
    "%load_ext autoreload\n",
    "%autoreload 2\n",
    "\n",
    "import os, json\n",
    "\n",
    "import matplotlib.pyplot as plt\n",
    "import numpy as np\n",
    "import pandas as pd\n",
    "import torch\n",
    "from matplotlib import animation\n",
    "%matplotlib inline\n",
    "\n",
    "from dataset import SportsDataset\n",
    "from datatools.trace_animator import TraceAnimator\n",
    "from datatools.trace_helper import TraceHelper\n",
    "from datatools.visualize_helper import VisualizeHelper\n",
    "from datatools.nba_helper import NBADataHelper, NBADataAnimator\n",
    "from datatools.nfl_helper import NFLDataHelper\n",
    "from models import load_model\n",
    "from models.utils import get_dataset_config, print_helper, reshape_tensor, sort_players\n",
    "\n",
    "from models.graph_imputer.graph_imputer import BidirectionalGraphImputer"
   ]
  },
  {
   "attachments": {},
   "cell_type": "markdown",
   "metadata": {},
   "source": [
    "## Model evaluating on test data"
   ]
  },
  {
   "attachments": {},
   "cell_type": "markdown",
   "metadata": {},
   "source": [
    "### Load model"
   ]
  },
  {
   "cell_type": "code",
   "execution_count": 42,
   "metadata": {},
   "outputs": [],
   "source": [
    "device = \"cuda:0\"\n",
    "trial = 232\n",
    "save_path = f\"saved/{trial:03d}\"\n",
    "\n",
    "with open(f\"{save_path}/params.json\", \"r\") as f:\n",
    "    params = json.load(f)\n",
    "\n",
    "if params[\"model\"] == \"nrtsi\":\n",
    "    model = load_model(params[\"model\"], params).to(device)\n",
    "\n",
    "    gap_models = dict()\n",
    "    gap_models[1] = f\"{save_path}/model/nrtsi_state_dict_best_gap_1.pt\"\n",
    "    gap_models[2] = f\"{save_path}/model/nrtsi_state_dict_best_gap_2.pt\"\n",
    "    gap_models[4] = f\"{save_path}/model/nrtsi_state_dict_best_gap_4.pt\"\n",
    "    gap_models[8] = f\"{save_path}/model/nrtsi_state_dict_best_gap_8.pt\"\n",
    "    gap_models[16] = f\"{save_path}/model/nrtsi_state_dict_best_gap_16.pt\"\n",
    "\n",
    "    for k in gap_models:\n",
    "        gap_models[k] = torch.load(gap_models[k], map_location=lambda storage, _: storage)\n",
    "else:\n",
    "    state_dict = torch.load(\n",
    "        f\"{save_path}/model/{params['model']}_state_dict_best.pt\",\n",
    "        map_location=lambda storage, _: storage,\n",
    "    )\n",
    "\n",
    "    model = load_model(params[\"model\"], params).to(device)\n",
    "    model.load_state_dict(state_dict)"
   ]
  },
  {
   "cell_type": "code",
   "execution_count": 5,
   "metadata": {},
   "outputs": [
    {
     "name": "stdout",
     "output_type": "stream",
     "text": [
      "- Sports: soccer\n",
      "- Model type: dbhp\n",
      "- Compute stats for naive baselines: True\n"
     ]
    }
   ],
   "source": [
    "sports = params[\"dataset\"]\n",
    "model_type = params[\"model\"]\n",
    "naive_baselines = True\n",
    "\n",
    "if model_type == \"dbhp\":\n",
    "    deriv_accum = params[\"deriv_accum\"]\n",
    "    dynamic_hybrid = params[\"dynamic_hybrid\"]\n",
    "\n",
    "print(f\"- Sports: {sports}\")\n",
    "print(f\"- Model type: {model_type}\")\n",
    "print(f\"- Compute stats for naive baselines: {naive_baselines}\")"
   ]
  },
  {
   "cell_type": "code",
   "execution_count": 6,
   "metadata": {},
   "outputs": [
    {
     "name": "stdout",
     "output_type": "stream",
     "text": [
      "Test data paths: ['data/metrica_traces/match3_test.csv']\n"
     ]
    }
   ],
   "source": [
    "metrica_files = [\"match1.csv\", \"match2.csv\", \"match3_valid.csv\", \"match3_test.csv\"]\n",
    "metrica_paths = [f\"data/metrica_traces/{f}\" for f in metrica_files]\n",
    "\n",
    "nba_files = os.listdir(\"data/nba_traces\")\n",
    "nba_paths = [f\"data/nba_traces/{f}\" for f in nba_files]\n",
    "nba_paths.sort()\n",
    "\n",
    "nfl_files = os.listdir(\"data/nfl_traces\")\n",
    "nfl_paths = [f\"data/nfl_traces/{f}\" for f in nfl_files if f.endswith(\".csv\")]\n",
    "nfl_paths.sort()\n",
    "\n",
    "if sports == \"soccer\":\n",
    "    trace_helper = TraceHelper\n",
    "    test_data_paths = metrica_paths[3:4]\n",
    "elif sports == \"basketball\":\n",
    "    trace_helper = NBADataHelper\n",
    "    test_data_paths = nba_paths[90:]\n",
    "else: # e.g. \"American football\"\n",
    "    trace_helper = NFLDataHelper\n",
    "    test_data_paths = nfl_paths[0:1]\n",
    "\n",
    "print(f\"Test data paths: {test_data_paths}\")"
   ]
  },
  {
   "attachments": {},
   "cell_type": "markdown",
   "metadata": {},
   "source": [
    "### Function for testing a trial and printing performance statistics"
   ]
  },
  {
   "cell_type": "code",
   "execution_count": 56,
   "metadata": {},
   "outputs": [],
   "source": [
    "def print_stats(trial, model, params, sports=\"soccer\", naive_baselines=True):\n",
    "    print(f\"\\n---------- Trial {trial} ----------\")\n",
    "\n",
    "    pred_keys = [\"pred\"]\n",
    "    if model_type == \"dbhp\":\n",
    "        if model.params[\"deriv_accum\"]:\n",
    "            pred_keys += [\"dap_f\", \"dap_b\"]\n",
    "        if model.params[\"dynamic_hybrid\"]:\n",
    "            pred_keys += [\"hybrid_s\", \"hybrid_s2\", \"hybrid_d\"]\n",
    "    if naive_baselines:\n",
    "        pred_keys += [\"linear\", \"knn\", \"ffill\"]\n",
    "\n",
    "    stat_keys = [\"total_frames\", \"missing_frames\"]\n",
    "    stat_keys += [f\"{k}_{m}\" for k in pred_keys for m in [\"pe\", \"se\", \"sce\", \"ple\"]]\n",
    "    stats = {k: 0 for k in stat_keys}\n",
    "\n",
    "    for path in test_data_paths:\n",
    "        print()\n",
    "        print(f\"{path}:\")\n",
    "        match_traces = pd.read_csv(path, header=0, encoding=\"utf-8-sig\")\n",
    "        helper = trace_helper(traces=match_traces)\n",
    "\n",
    "        if params[\"model\"] == \"nrtsi\":\n",
    "            match_ret, match_stats = helper.predict(\n",
    "                model, dataset_type=sports, naive_baselines=naive_baselines, gap_models=gap_models\n",
    "            )\n",
    "        else:\n",
    "            match_ret, match_stats = helper.predict(model, dataset_type=sports, naive_baselines=naive_baselines)\n",
    "\n",
    "        for k, v in match_stats.items():\n",
    "            stats[k] += v\n",
    "\n",
    "    # print(\"Total Performance:\")\n",
    "    # print_helper(ret, pred_keys, trial=trial, save_txt=True)\n",
    "\n",
    "    # torch.save(helper, f\"{save_path}/helper\")\n",
    "    # torch.save(ret, f\"{save_path}/df_dict\")\n",
    "\n",
    "    n_players, _ = get_dataset_config(sports)\n",
    "    stats_df = pd.DataFrame(index=pred_keys, columns=[\"pe\", \"se\", \"sce\", \"ple\"])\n",
    "\n",
    "    for k, v in stats.items():\n",
    "        if k in [\"total_frames\", \"missing_frames\"]:\n",
    "            continue\n",
    "        \n",
    "        pred_key = \"_\".join(k.split(\"_\")[:-1])\n",
    "        metric = k.split(\"_\")[-1]\n",
    "\n",
    "        if metric in [\"pe\", \"se\"]:\n",
    "            stats[k] = round(v / stats[\"missing_frames\"], 6)\n",
    "            \n",
    "        elif metric in [\"sce\", \"ple\"]:\n",
    "            stats[k] = round(v / (stats[\"total_frames\"] * n_players), 6)\n",
    "\n",
    "        stats_df.at[pred_key, metric] = stats[k]\n",
    "\n",
    "    # print(f\"Total frames: {stats['total_frames'] * n_players}\")\n",
    "    # print(f\"Missing frames: {stats['missing_frames']}\")\n",
    "    print()\n",
    "    print(f\"Window size: {params['window_size']}\")\n",
    "    print(f\"Missing pattern: {params['missing_pattern']}\")\n",
    "    print(f\"Missing rate: {stats['missing_frames'] / (stats['total_frames'] * n_players):.4f}\")\n",
    "    print(stats_df.loc[[\"pred\", \"dap_f\", \"dap_b\", \"hybrid_s2\", \"hybrid_d\", \"linear\"], \"pe\"])\n",
    "\n",
    "    return stats_df"
   ]
  },
  {
   "cell_type": "markdown",
   "metadata": {},
   "source": [
    "### Ablation study on Set Transformer architecture"
   ]
  },
  {
   "cell_type": "code",
   "execution_count": 63,
   "metadata": {},
   "outputs": [
    {
     "name": "stdout",
     "output_type": "stream",
     "text": [
      "\n",
      "---------- Trial 310 ----------\n",
      "\n",
      "data/metrica_traces/match3_test.csv:\n"
     ]
    },
    {
     "name": "stderr",
     "output_type": "stream",
     "text": [
      "Phase 2: 100%|██████████| 10/10 [00:04<00:00,  2.09it/s]\n",
      "Phase 3: 100%|██████████| 2/2 [00:00<00:00,  3.36it/s]\n",
      "Phase 4: 0it [00:00, ?it/s]\n",
      "Phase 5: 0it [00:00, ?it/s]\n",
      "Phase 6: 100%|██████████| 1/1 [00:00<00:00,  1.12it/s]\n",
      "Phase 7: 100%|██████████| 2/2 [00:00<00:00,  2.32it/s]\n",
      "Phase 8: 100%|██████████| 3/3 [00:01<00:00,  1.91it/s]\n",
      "Phase 9: 100%|██████████| 4/4 [00:02<00:00,  1.53it/s]\n",
      "Phase 10: 100%|██████████| 6/6 [00:01<00:00,  3.03it/s]\n",
      "Phase 11: 100%|██████████| 7/7 [00:02<00:00,  2.37it/s]\n"
     ]
    },
    {
     "name": "stdout",
     "output_type": "stream",
     "text": [
      "\n",
      "Window size: 200\n",
      "Missing pattern: camera\n",
      "Missing rate: 0.5375\n",
      "pred         22.88179\n",
      "dap_f        5.460254\n",
      "dap_b        5.544753\n",
      "hybrid_s2    2.748455\n",
      "hybrid_d     2.578049\n",
      "linear       3.166009\n",
      "Name: pe, dtype: object\n",
      "\n",
      "---------- Trial 320 ----------\n",
      "\n",
      "data/metrica_traces/match3_test.csv:\n"
     ]
    },
    {
     "name": "stderr",
     "output_type": "stream",
     "text": [
      "Phase 2: 100%|██████████| 10/10 [00:03<00:00,  2.56it/s]\n",
      "Phase 3: 100%|██████████| 2/2 [00:00<00:00,  4.35it/s]\n",
      "Phase 4: 0it [00:00, ?it/s]\n",
      "Phase 5: 0it [00:00, ?it/s]\n",
      "Phase 6: 100%|██████████| 1/1 [00:00<00:00,  1.41it/s]\n",
      "Phase 7: 100%|██████████| 2/2 [00:00<00:00,  3.05it/s]\n",
      "Phase 8: 100%|██████████| 3/3 [00:01<00:00,  2.49it/s]\n",
      "Phase 9: 100%|██████████| 4/4 [00:02<00:00,  1.92it/s]\n",
      "Phase 10: 100%|██████████| 6/6 [00:01<00:00,  3.43it/s]\n",
      "Phase 11: 100%|██████████| 7/7 [00:02<00:00,  2.46it/s]\n"
     ]
    },
    {
     "name": "stdout",
     "output_type": "stream",
     "text": [
      "\n",
      "Window size: 200\n",
      "Missing pattern: camera\n",
      "Missing rate: 0.5375\n",
      "pred         16.337782\n",
      "dap_f         5.127047\n",
      "dap_b         5.192201\n",
      "hybrid_s2      2.51853\n",
      "hybrid_d      2.530383\n",
      "linear        3.166009\n",
      "Name: pe, dtype: object\n",
      "\n",
      "---------- Trial 330 ----------\n",
      "\n",
      "data/metrica_traces/match3_test.csv:\n"
     ]
    },
    {
     "name": "stderr",
     "output_type": "stream",
     "text": [
      "Phase 2: 100%|██████████| 10/10 [00:04<00:00,  2.48it/s]\n",
      "Phase 3: 100%|██████████| 2/2 [00:00<00:00,  3.40it/s]\n",
      "Phase 4: 0it [00:00, ?it/s]\n",
      "Phase 5: 0it [00:00, ?it/s]\n",
      "Phase 6: 100%|██████████| 1/1 [00:00<00:00,  1.37it/s]\n",
      "Phase 7: 100%|██████████| 2/2 [00:00<00:00,  2.72it/s]\n",
      "Phase 8: 100%|██████████| 3/3 [00:01<00:00,  2.19it/s]\n",
      "Phase 9: 100%|██████████| 4/4 [00:02<00:00,  1.69it/s]\n",
      "Phase 10: 100%|██████████| 6/6 [00:01<00:00,  3.12it/s]\n",
      "Phase 11: 100%|██████████| 7/7 [00:02<00:00,  2.65it/s]\n"
     ]
    },
    {
     "name": "stdout",
     "output_type": "stream",
     "text": [
      "\n",
      "Window size: 200\n",
      "Missing pattern: camera\n",
      "Missing rate: 0.5375\n",
      "pred         1.553781\n",
      "dap_f        1.442645\n",
      "dap_b        1.446085\n",
      "hybrid_s2    1.258591\n",
      "hybrid_d     1.248082\n",
      "linear       3.166009\n",
      "Name: pe, dtype: object\n",
      "\n",
      "---------- Trial 331 ----------\n",
      "\n",
      "data/metrica_traces/match3_test.csv:\n"
     ]
    },
    {
     "name": "stderr",
     "output_type": "stream",
     "text": [
      "Phase 2: 100%|██████████| 10/10 [00:03<00:00,  2.63it/s]\n",
      "Phase 3: 100%|██████████| 2/2 [00:00<00:00,  4.33it/s]\n",
      "Phase 4: 0it [00:00, ?it/s]\n",
      "Phase 5: 0it [00:00, ?it/s]\n",
      "Phase 6: 100%|██████████| 1/1 [00:00<00:00,  1.41it/s]\n",
      "Phase 7: 100%|██████████| 2/2 [00:00<00:00,  3.00it/s]\n",
      "Phase 8: 100%|██████████| 3/3 [00:01<00:00,  2.50it/s]\n",
      "Phase 9: 100%|██████████| 4/4 [00:02<00:00,  1.98it/s]\n",
      "Phase 10: 100%|██████████| 6/6 [00:01<00:00,  3.02it/s]\n",
      "Phase 11: 100%|██████████| 7/7 [00:02<00:00,  2.86it/s]\n"
     ]
    },
    {
     "name": "stdout",
     "output_type": "stream",
     "text": [
      "\n",
      "Window size: 200\n",
      "Missing pattern: camera\n",
      "Missing rate: 0.5375\n",
      "pred         1.545655\n",
      "dap_f        1.417635\n",
      "dap_b         1.42606\n",
      "hybrid_s2    1.246887\n",
      "hybrid_d     1.235573\n",
      "linear       3.166009\n",
      "Name: pe, dtype: object\n",
      "\n",
      "---------- Trial 332 ----------\n",
      "\n",
      "data/metrica_traces/match3_test.csv:\n"
     ]
    },
    {
     "name": "stderr",
     "output_type": "stream",
     "text": [
      "Phase 2: 100%|██████████| 10/10 [00:04<00:00,  2.07it/s]\n",
      "Phase 3: 100%|██████████| 2/2 [00:00<00:00,  3.83it/s]\n",
      "Phase 4: 0it [00:00, ?it/s]\n",
      "Phase 5: 0it [00:00, ?it/s]\n",
      "Phase 6: 100%|██████████| 1/1 [00:00<00:00,  1.16it/s]\n",
      "Phase 7: 100%|██████████| 2/2 [00:00<00:00,  2.55it/s]\n",
      "Phase 8: 100%|██████████| 3/3 [00:01<00:00,  1.89it/s]\n",
      "Phase 9: 100%|██████████| 4/4 [00:02<00:00,  1.68it/s]\n",
      "Phase 10: 100%|██████████| 6/6 [00:01<00:00,  3.54it/s]\n",
      "Phase 11: 100%|██████████| 7/7 [00:02<00:00,  2.99it/s]\n"
     ]
    },
    {
     "name": "stdout",
     "output_type": "stream",
     "text": [
      "\n",
      "Window size: 200\n",
      "Missing pattern: camera\n",
      "Missing rate: 0.5375\n",
      "pred         1.536491\n",
      "dap_f        1.461935\n",
      "dap_b        1.425656\n",
      "hybrid_s2    1.246257\n",
      "hybrid_d     1.234534\n",
      "linear       3.166009\n",
      "Name: pe, dtype: object\n",
      "\n",
      "---------- Trial 220 ----------\n",
      "\n",
      "data/metrica_traces/match3_test.csv:\n"
     ]
    },
    {
     "name": "stderr",
     "output_type": "stream",
     "text": [
      "Phase 2: 100%|██████████| 10/10 [00:03<00:00,  2.50it/s]\n",
      "Phase 3: 100%|██████████| 2/2 [00:00<00:00,  4.30it/s]\n",
      "Phase 4: 0it [00:00, ?it/s]\n",
      "Phase 5: 0it [00:00, ?it/s]\n",
      "Phase 6: 100%|██████████| 1/1 [00:00<00:00,  1.29it/s]\n",
      "Phase 7: 100%|██████████| 2/2 [00:00<00:00,  2.78it/s]\n",
      "Phase 8: 100%|██████████| 3/3 [00:01<00:00,  2.36it/s]\n",
      "Phase 9: 100%|██████████| 4/4 [00:02<00:00,  1.85it/s]\n",
      "Phase 10: 100%|██████████| 6/6 [00:01<00:00,  3.38it/s]\n",
      "Phase 11: 100%|██████████| 7/7 [00:02<00:00,  2.98it/s]\n"
     ]
    },
    {
     "name": "stdout",
     "output_type": "stream",
     "text": [
      "\n",
      "Window size: 200\n",
      "Missing pattern: camera\n",
      "Missing rate: 0.5375\n",
      "pred          1.53002\n",
      "dap_f        1.461889\n",
      "dap_b        1.442529\n",
      "hybrid_s2    1.273531\n",
      "hybrid_d     1.263448\n",
      "linear       3.166009\n",
      "Name: pe, dtype: object\n",
      "\n",
      "---------- Trial 341 ----------\n",
      "\n",
      "data/metrica_traces/match3_test.csv:\n"
     ]
    },
    {
     "name": "stderr",
     "output_type": "stream",
     "text": [
      "Phase 2: 100%|██████████| 10/10 [00:03<00:00,  2.61it/s]\n",
      "Phase 3: 100%|██████████| 2/2 [00:00<00:00,  4.30it/s]\n",
      "Phase 4: 0it [00:00, ?it/s]\n",
      "Phase 5: 0it [00:00, ?it/s]\n",
      "Phase 6: 100%|██████████| 1/1 [00:00<00:00,  1.16it/s]\n",
      "Phase 7: 100%|██████████| 2/2 [00:00<00:00,  2.50it/s]\n",
      "Phase 8: 100%|██████████| 3/3 [00:01<00:00,  2.14it/s]\n",
      "Phase 9: 100%|██████████| 4/4 [00:02<00:00,  1.93it/s]\n",
      "Phase 10: 100%|██████████| 6/6 [00:01<00:00,  3.54it/s]\n",
      "Phase 11: 100%|██████████| 7/7 [00:02<00:00,  3.03it/s]\n"
     ]
    },
    {
     "name": "stdout",
     "output_type": "stream",
     "text": [
      "\n",
      "Window size: 200\n",
      "Missing pattern: camera\n",
      "Missing rate: 0.5375\n",
      "pred         1.533742\n",
      "dap_f        1.517984\n",
      "dap_b        1.515321\n",
      "hybrid_s2    1.286369\n",
      "hybrid_d     1.273371\n",
      "linear       3.166009\n",
      "Name: pe, dtype: object\n",
      "\n",
      "---------- Trial 342 ----------\n",
      "\n",
      "data/metrica_traces/match3_test.csv:\n"
     ]
    },
    {
     "name": "stderr",
     "output_type": "stream",
     "text": [
      "Phase 2: 100%|██████████| 10/10 [00:03<00:00,  2.56it/s]\n",
      "Phase 3: 100%|██████████| 2/2 [00:00<00:00,  4.36it/s]\n",
      "Phase 4: 0it [00:00, ?it/s]\n",
      "Phase 5: 0it [00:00, ?it/s]\n",
      "Phase 6: 100%|██████████| 1/1 [00:00<00:00,  1.39it/s]\n",
      "Phase 7: 100%|██████████| 2/2 [00:00<00:00,  2.33it/s]\n",
      "Phase 8: 100%|██████████| 3/3 [00:01<00:00,  1.82it/s]\n",
      "Phase 9: 100%|██████████| 4/4 [00:02<00:00,  1.70it/s]\n",
      "Phase 10: 100%|██████████| 6/6 [00:01<00:00,  3.52it/s]\n",
      "Phase 11: 100%|██████████| 7/7 [00:02<00:00,  3.00it/s]"
     ]
    },
    {
     "name": "stdout",
     "output_type": "stream",
     "text": [
      "\n",
      "Window size: 200\n",
      "Missing pattern: camera\n",
      "Missing rate: 0.5375\n",
      "pred         1.624392\n",
      "dap_f         1.47451\n",
      "dap_b        1.446096\n",
      "hybrid_s2    1.256186\n",
      "hybrid_d     1.244057\n",
      "linear       3.166009\n",
      "Name: pe, dtype: object\n"
     ]
    },
    {
     "name": "stderr",
     "output_type": "stream",
     "text": [
      "\n"
     ]
    }
   ],
   "source": [
    "device = \"cuda:0\"\n",
    "trial_ids = [310, 320, 330, 331, 332, 220, 341, 342]\n",
    "\n",
    "for trial in trial_ids:\n",
    "    save_path = f\"saved/{trial:03d}\"\n",
    "\n",
    "    with open(f\"{save_path}/params.json\", \"r\") as f:\n",
    "        params = json.load(f)\n",
    "\n",
    "    state_dict = torch.load(\n",
    "        f\"{save_path}/model/{params['model']}_state_dict_best.pt\",\n",
    "        map_location=lambda storage, _: storage,\n",
    "    )\n",
    "\n",
    "    model = load_model(params[\"model\"], params).to(device)\n",
    "    model.load_state_dict(state_dict)\n",
    "\n",
    "    print_stats(trial, model, params)"
   ]
  },
  {
   "cell_type": "markdown",
   "metadata": {},
   "source": [
    "### Ablation study on window size and missing rate"
   ]
  },
  {
   "cell_type": "code",
   "execution_count": 64,
   "metadata": {},
   "outputs": [
    {
     "name": "stdout",
     "output_type": "stream",
     "text": [
      "\n",
      "---------- Trial 205 ----------\n",
      "\n",
      "data/metrica_traces/match3_test.csv:\n"
     ]
    },
    {
     "name": "stderr",
     "output_type": "stream",
     "text": [
      "Phase 2: 100%|██████████| 10/10 [00:05<00:00,  1.71it/s]\n",
      "Phase 3: 100%|██████████| 2/2 [00:00<00:00,  2.79it/s]\n",
      "Phase 4: 0it [00:00, ?it/s]\n",
      "Phase 5: 0it [00:00, ?it/s]\n",
      "Phase 6: 100%|██████████| 1/1 [00:01<00:00,  1.05s/it]\n",
      "Phase 7: 100%|██████████| 2/2 [00:00<00:00,  2.07it/s]\n",
      "Phase 8: 100%|██████████| 3/3 [00:01<00:00,  1.65it/s]\n",
      "Phase 9: 100%|██████████| 4/4 [00:03<00:00,  1.12it/s]\n",
      "Phase 10: 100%|██████████| 6/6 [00:02<00:00,  2.06it/s]\n",
      "Phase 11: 100%|██████████| 7/7 [00:04<00:00,  1.66it/s]"
     ]
    },
    {
     "name": "stdout",
     "output_type": "stream",
     "text": [
      "\n",
      "Window size: 50\n",
      "Missing pattern: playerwise\n",
      "Missing rate: 0.9000\n",
      "pred         5.267954\n",
      "dap_f        1.723606\n",
      "dap_b        1.748702\n",
      "hybrid_s2     0.54647\n",
      "hybrid_d     0.477616\n",
      "linear       1.501628\n",
      "Name: pe, dtype: object\n"
     ]
    },
    {
     "name": "stderr",
     "output_type": "stream",
     "text": [
      "\n"
     ]
    }
   ],
   "source": [
    "device = \"cuda:0\"\n",
    "# trial_ids = np.sort([int(i) for i in os.listdir(\"saved\") if int(i) >= 200 and int(i) < 250])\n",
    "trial_ids = [205]\n",
    "\n",
    "for trial in trial_ids:\n",
    "    save_path = f\"saved/{trial:03d}\"\n",
    "\n",
    "    with open(f\"{save_path}/params.json\", \"r\") as f:\n",
    "        params = json.load(f)\n",
    "\n",
    "    state_dict = torch.load(\n",
    "        f\"{save_path}/model/{params['model']}_state_dict_best.pt\",\n",
    "        map_location=lambda storage, _: storage,\n",
    "    )\n",
    "\n",
    "    model = load_model(params[\"model\"], params).to(device)\n",
    "    model.load_state_dict(state_dict)\n",
    "\n",
    "    print_stats(trial, model, params)"
   ]
  },
  {
   "cell_type": "code",
   "execution_count": 18,
   "metadata": {},
   "outputs": [
    {
     "data": {
      "text/plain": [
       "torch.Size([1, 253, 132])"
      ]
     },
     "execution_count": 18,
     "metadata": {},
     "output_type": "execute_result"
    }
   ],
   "source": [
    "self = helper\n",
    "ep_traces = self.traces[helper.traces[\"episode\"] == 36]\n",
    "\n",
    "feature_types = [\"_x\", \"_y\", \"_vx\", \"_vy\", \"_ax\", \"_ay\"]\n",
    "players = self.team1_players + self.team2_players\n",
    "player_cols = [f\"{p}{x}\" for p in players for x in feature_types]\n",
    "\n",
    "phase_gks = SportsDataset.detect_goalkeepers(ep_traces)\n",
    "team1_code, team2_code = phase_gks[0][0], phase_gks[1][0]\n",
    "\n",
    "ep_player_cols = ep_traces[player_cols].dropna(axis=1).columns\n",
    "team1_cols = [c for c in ep_player_cols if c.startswith(team1_code)]\n",
    "team2_cols = [c for c in ep_player_cols if c.startswith(team2_code)]\n",
    "ball_cols = [\"ball_x\", \"ball_y\"]\n",
    "\n",
    "ep_player_cols = team1_cols + team2_cols\n",
    "ep_player_traces = torch.FloatTensor(ep_traces[ep_player_cols].values).unsqueeze(0)\n",
    "ep_player_traces.shape"
   ]
  },
  {
   "cell_type": "code",
   "execution_count": 20,
   "metadata": {},
   "outputs": [
    {
     "data": {
      "text/plain": [
       "tensor([0.6058, 1.0526, 0.8447, 0.5932, 1.2615, 0.9120, 0.8317, 0.9120, 1.1420,\n",
       "        0.7295, 0.7110, 1.4746, 1.0250, 1.2611, 1.5325, 0.9509, 1.1192, 1.3261,\n",
       "        1.2470, 0.8331, 0.9942, 1.0473])"
      ]
     },
     "execution_count": 20,
     "metadata": {},
     "output_type": "execute_result"
    }
   ],
   "source": [
    "bs, seq_len = ep_player_traces.shape[:2]\n",
    "tensor = ep_player_traces.reshape(bs, seq_len, 22, -1)\n",
    "\n",
    "x = tensor[..., 0:1]  # [bs, time, players, 1]\n",
    "y = tensor[..., 1:2]\n",
    "xy = torch.cat([x, y], dim=-1)  # [bs, time, players, 2]\n",
    "\n",
    "x_plus_y = torch.sum(xy, dim=-1)  # [bs, time, players]\n",
    "\n",
    "sorted_tensor = tensor.clone()\n",
    "sort_idxs = torch.zeros(bs, n_players, dtype=int)\n",
    "\n",
    "x_plus_y[0, 0]"
   ]
  },
  {
   "attachments": {},
   "cell_type": "markdown",
   "metadata": {},
   "source": [
    "## Performance analysis"
   ]
  },
  {
   "cell_type": "markdown",
   "metadata": {},
   "source": [
    "##### (1) Get Main model results"
   ]
  },
  {
   "cell_type": "code",
   "execution_count": null,
   "metadata": {},
   "outputs": [],
   "source": [
    "trial = 3003\n",
    "save_path = f\"saved/{trial:03d}\"\n",
    "if os.path.isfile(save_path + \"/df_dict\"):\n",
    "    helper =  torch.load(save_path + \"/helper\")\n",
    "    df_dict = torch.load(save_path + \"/df_dict\")\n",
    "    with open(f\"{save_path}/params.json\", \"r\") as f:\n",
    "        params = json.load(f)"
   ]
  },
  {
   "cell_type": "markdown",
   "metadata": {},
   "source": [
    "##### (2) Add baseline model results"
   ]
  },
  {
   "cell_type": "code",
   "execution_count": null,
   "metadata": {},
   "outputs": [],
   "source": [
    "# trial_dict = {4000 : \"brits\", 5000 : \"naomi\", 214 : \"nrtsi\"} # Metrica\n",
    "trial_dict = {4003 : \"brits\", 5001 : \"naomi\", 6001 : \"nrtsi\", 9996 : \"graphimputer\"} # NBA\n",
    "for (t, model_type) in trial_dict.items():\n",
    "    save_path = f\"saved/{t:03d}\"\n",
    "    if os.path.isfile(save_path + \"/df_dict\"):\n",
    "        df_dict_ = torch.load(save_path + \"/df_dict\")\n",
    "        df_dict[f\"{model_type}_df\"] = df_dict_[\"pred\"]"
   ]
  },
  {
   "cell_type": "code",
   "execution_count": null,
   "metadata": {},
   "outputs": [],
   "source": [
    "df_dict.keys()"
   ]
  },
  {
   "attachments": {},
   "cell_type": "markdown",
   "metadata": {},
   "source": [
    "### Animation"
   ]
  },
  {
   "attachments": {},
   "cell_type": "markdown",
   "metadata": {},
   "source": [
    "##### (1) Soccer Animator"
   ]
  },
  {
   "cell_type": "code",
   "execution_count": null,
   "metadata": {},
   "outputs": [],
   "source": [
    "helper.traces[\"episode\"].unique()"
   ]
  },
  {
   "cell_type": "code",
   "execution_count": null,
   "metadata": {},
   "outputs": [],
   "source": [
    "i0 = 479\n",
    "i1 = 873\n",
    "\n",
    "animator = TraceAnimator(\n",
    "    trace_dict={\"main\": df_dict[\"target\"][i0:i1], \"pred\": df_dict[\"dbhp_df\"][i0:i1]},\n",
    "    mask = df_dict[\"mask\"][i0:i1],\n",
    "    show_episodes=True,\n",
    "    show_events=False,\n",
    "    show_frames=False,\n",
    "    show_polygon=True,\n",
    "    annot_cols=None,\n",
    ")\n",
    "anim = animator.run()\n",
    "\n",
    "path = f\"animations/trial_{trial}.mp4\"\n",
    "\n",
    "writer = animation.FFMpegWriter(fps=10)\n",
    "anim.save(path, writer=writer)"
   ]
  },
  {
   "attachments": {},
   "cell_type": "markdown",
   "metadata": {},
   "source": [
    "##### (2) Basketball Animator"
   ]
  },
  {
   "cell_type": "code",
   "execution_count": null,
   "metadata": {},
   "outputs": [],
   "source": [
    "i0 = 326\n",
    "i1 = 737\n",
    "animator = NBADataAnimator(\n",
    "    trace_dict={\"main\": df_dict[\"target\"][i0:i1], \"pred\": df_dict[\"dbhp_df\"][i0:i1]},\n",
    "    show_episodes=True,\n",
    "    show_frames=True,\n",
    "    masks = df_dict[\"mask\"][i0:i1],\n",
    ")\n",
    "anim = animator.run()\n",
    "\n",
    "path = f\"animations/trial_{trial}.mp4\"\n",
    "\n",
    "writer = animation.FFMpegWriter(fps=10)\n",
    "anim.save(path, writer=writer)"
   ]
  },
  {
   "cell_type": "markdown",
   "metadata": {},
   "source": [
    "### plotting"
   ]
  },
  {
   "cell_type": "code",
   "execution_count": null,
   "metadata": {},
   "outputs": [],
   "source": [
    "plot_mode = \"imputed_traj\" # \"imputed_traj\", \"dist_heatmap\", \"weights_heatmap\"\n",
    "sports = params[\"dataset\"]\n",
    "visualizer = VisualizeHelper(trial, df_dict, plot_mode, dataset=sports, helper=helper)\n",
    "visualizer.valid_episodes()"
   ]
  },
  {
   "cell_type": "code",
   "execution_count": null,
   "metadata": {},
   "outputs": [],
   "source": [
    "visualizer.plot_run(epi_idx=0)\n",
    "plt.close()"
   ]
  }
 ],
 "metadata": {
  "kernelspec": {
   "display_name": "Python 3 (ipykernel)",
   "language": "python",
   "name": "python3"
  },
  "language_info": {
   "codemirror_mode": {
    "name": "ipython",
    "version": 3
   },
   "file_extension": ".py",
   "mimetype": "text/x-python",
   "name": "python",
   "nbconvert_exporter": "python",
   "pygments_lexer": "ipython3",
   "version": "3.10.8"
  },
  "vscode": {
   "interpreter": {
    "hash": "c44ecce01b6920a996c2e45a7791c773f725b79a727cce05b077a0ad48ece758"
   }
  }
 },
 "nbformat": 4,
 "nbformat_minor": 4
}
