{
 "cells": [
  {
   "cell_type": "code",
   "execution_count": 10,
   "metadata": {},
   "outputs": [
    {
     "name": "stdout",
     "output_type": "stream",
     "text": [
      "The autoreload extension is already loaded. To reload it, use:\n",
      "  %reload_ext autoreload\n"
     ]
    }
   ],
   "source": [
    "%load_ext autoreload\n",
    "%autoreload 2\n",
    "\n",
    "import os\n",
    "\n",
    "import numpy as np\n",
    "import torch\n",
    "\n",
    "from dataset import SportsDataset\n",
    "from models.utils import generate_mask"
   ]
  },
  {
   "cell_type": "code",
   "execution_count": 2,
   "metadata": {},
   "outputs": [],
   "source": [
    "sports = \"soccer\"\n",
    "\n",
    "if sports == \"soccer\":\n",
    "    metrica_files = [\"match1.csv\", \"match2.csv\", \"match3_valid.csv\"]\n",
    "    metrica_paths = [f\"data/metrica_traces/{f}\" for f in metrica_files]\n",
    "    data_paths = metrica_paths[:-1]\n",
    "\n",
    "elif sports == \"basketball\":\n",
    "    nba_files = os.listdir(\"data/nba_traces\")\n",
    "    nba_paths = [f\"data/nba_traces/{f}\" for f in nba_files]\n",
    "    nba_paths.sort()\n",
    "    data_paths = nba_paths[:10]\n",
    "\n",
    "else:  # sports == \"afootball\"\n",
    "    nfl_paths = [\"data/nfl_traces/nfl_train.csv\", \"data/nfl_traces/nfl_test.csv\"]\n",
    "    data_paths = nfl_paths[:-1]"
   ]
  },
  {
   "cell_type": "code",
   "execution_count": 3,
   "metadata": {},
   "outputs": [
    {
     "name": "stderr",
     "output_type": "stream",
     "text": [
      "100%|██████████| 2/2 [00:08<00:00,  4.15s/it]\n"
     ]
    },
    {
     "data": {
      "text/plain": [
       "9098"
      ]
     },
     "execution_count": 3,
     "metadata": {},
     "output_type": "execute_result"
    }
   ],
   "source": [
    "train_dataset = SportsDataset(\n",
    "    sports=sports,\n",
    "    data_paths=data_paths,\n",
    "    n_features=6,\n",
    "    normalize=True,\n",
    "    flip_pitch=True\n",
    ")\n",
    "len(train_dataset)"
   ]
  },
  {
   "cell_type": "code",
   "execution_count": 6,
   "metadata": {},
   "outputs": [
    {
     "data": {
      "text/plain": [
       "array([200, 200, 200, 187, 200])"
      ]
     },
     "execution_count": 6,
     "metadata": {},
     "output_type": "execute_result"
    }
   ],
   "source": [
    "player_data = train_dataset[75:80][0].to(\"cuda:0\")\n",
    "ball_data = train_dataset[75:80][1].to(\"cuda:0\")\n",
    "\n",
    "if player_data.is_cuda:\n",
    "    valid_lens = np.array(player_data.cpu()[..., 0] != -100).astype(int).sum(axis=-1)\n",
    "else:\n",
    "    valid_lens = np.array(player_data[..., 0] != -100).astype(int).sum(axis=-1)\n",
    "\n",
    "valid_lens"
   ]
  },
  {
   "cell_type": "code",
   "execution_count": 7,
   "metadata": {},
   "outputs": [
    {
     "data": {
      "text/plain": [
       "(array([[ 22, 150, 190, 115,  43, 190,  96, 113, 142,  21,  76, 190,  78,\n",
       "         110, 190,   4,   8,  59,   5,  75, 190, 133],\n",
       "        [144,  22, 135,  57,  34,  46,  84,  65,  80,  43,  17, 105,  67,\n",
       "         190, 158,  60, 170,  88, 164, 190, 190,  91],\n",
       "        [ 54,  18,  48, 190, 155,  96, 190,  50, 190,  22,  52, 103,  53,\n",
       "         153, 151,  89, 184,  85,  79,  57,  33, 148],\n",
       "        [177,  11, 177, 177,  70,  58,  52, 118,  45, 161,  90, 137,  62,\n",
       "          57, 101,  73,  91,  38,  91,  34,  60, 177],\n",
       "        [ 85, 140,  70,  42,  92,  51,  38,  37, 190, 167,  63,  21,  31,\n",
       "         127,  94,  53, 190, 167, 122, 190, 172,  58]]),\n",
       " array([100, 100, 100,  93, 100]))"
      ]
     },
     "execution_count": 7,
     "metadata": {},
     "output_type": "execute_result"
    }
   ],
   "source": [
    "n_players = 22\n",
    "missing_rate = 0.5\n",
    "\n",
    "mask = np.ones((player_data.shape[0], player_data.shape[1], n_players))\n",
    "missing_lens = np.zeros((mask.shape[0], n_players)).astype(int)  # [bs, players]\n",
    "\n",
    "residue = (valid_lens * n_players * missing_rate).astype(int)  # [bs,]\n",
    "max_shares = np.tile(valid_lens - 10, (n_players, 1)).T  # [bs, players]\n",
    "assert np.all(residue < max_shares.sum(axis=-1))\n",
    "\n",
    "for i in range(mask.shape[0]):\n",
    "    while residue[i] > 0:\n",
    "        slots = missing_lens[i] < max_shares[i]  # [players,]\n",
    "        breakpoints = np.random.choice(residue[i] + 1, slots.astype(int).sum() - 1, replace=True)  # [players - 1,]\n",
    "        shares = np.diff(np.sort(breakpoints.tolist() + [0, residue[i]]))  # [players,]\n",
    "        # print()\n",
    "        # print(residue)\n",
    "        # print(slots.astype(int))\n",
    "        # print(shares)\n",
    "\n",
    "        missing_lens[i, ~slots] = max_shares[i, ~slots]\n",
    "        missing_lens[i, slots] += shares\n",
    "        residue[i] = np.clip(missing_lens[i] - max_shares[i], 0, None).sum()\n",
    "        # print(missing_lens[i])\n",
    "\n",
    "start_idxs = np.random.randint(1, max_shares - missing_lens + 2)  # [bs, players]\n",
    "end_idxs = start_idxs + missing_lens  # [bs, players]\n",
    "\n",
    "for i in range(mask.shape[0]):\n",
    "    for p in range(n_players):\n",
    "        mask[i, start_idxs[i, p] : end_idxs[i, p], p] = 0\n",
    "\n",
    "missing_lens, missing_lens.sum(axis=1) // n_players"
   ]
  },
  {
   "cell_type": "code",
   "execution_count": 9,
   "metadata": {},
   "outputs": [
    {
     "data": {
      "text/plain": [
       "(5, 200, 22)"
      ]
     },
     "execution_count": 9,
     "metadata": {},
     "output_type": "execute_result"
    }
   ],
   "source": [
    "data_dict = {\"target\": player_data, \"ball\": ball_data}\n",
    "mask = generate_mask(data_dict, mode=\"playerwise\", missing_rate=0.5)\n",
    "mask.shape"
   ]
  }
 ],
 "metadata": {
  "kernelspec": {
   "display_name": "choi",
   "language": "python",
   "name": "python3"
  },
  "language_info": {
   "codemirror_mode": {
    "name": "ipython",
    "version": 3
   },
   "file_extension": ".py",
   "mimetype": "text/x-python",
   "name": "python",
   "nbconvert_exporter": "python",
   "pygments_lexer": "ipython3",
   "version": "3.10.8"
  }
 },
 "nbformat": 4,
 "nbformat_minor": 2
}
