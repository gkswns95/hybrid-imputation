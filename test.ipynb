{
 "cells": [
  {
   "cell_type": "code",
   "execution_count": 171,
   "metadata": {},
   "outputs": [
    {
     "name": "stdout",
     "output_type": "stream",
     "text": [
      "The autoreload extension is already loaded. To reload it, use:\n",
      "  %reload_ext autoreload\n"
     ]
    }
   ],
   "source": [
    "%load_ext autoreload\n",
    "%autoreload 2\n",
    "\n",
    "import os\n",
    "import random\n",
    "\n",
    "import numpy as np\n",
    "\n",
    "from dataset import SportsDataset\n",
    "from models.utils import generate_mask"
   ]
  },
  {
   "cell_type": "code",
   "execution_count": 2,
   "metadata": {},
   "outputs": [],
   "source": [
    "sports = \"soccer\"\n",
    "\n",
    "if sports == \"soccer\":\n",
    "    metrica_files = [\"match1.csv\", \"match2.csv\", \"match3_valid.csv\"]\n",
    "    metrica_paths = [f\"data/metrica_traces/{f}\" for f in metrica_files]\n",
    "    data_paths = metrica_paths[:-1]\n",
    "\n",
    "elif sports == \"basketball\":\n",
    "    nba_files = os.listdir(\"data/nba_traces\")\n",
    "    nba_paths = [f\"data/nba_traces/{f}\" for f in nba_files]\n",
    "    nba_paths.sort()\n",
    "    data_paths = nba_paths[:10]\n",
    "\n",
    "else:  # sports == \"afootball\"\n",
    "    nfl_paths = [\"data/nfl_traces/nfl_train.csv\", \"data/nfl_traces/nfl_test.csv\"]\n",
    "    data_paths = nfl_paths[:-1]"
   ]
  },
  {
   "cell_type": "code",
   "execution_count": 32,
   "metadata": {},
   "outputs": [
    {
     "name": "stderr",
     "output_type": "stream",
     "text": [
      "100%|██████████| 2/2 [00:08<00:00,  4.00s/it]\n"
     ]
    },
    {
     "data": {
      "text/plain": [
       "9098"
      ]
     },
     "execution_count": 32,
     "metadata": {},
     "output_type": "execute_result"
    }
   ],
   "source": [
    "train_dataset = SportsDataset(\n",
    "    sports=sports,\n",
    "    data_paths=data_paths,\n",
    "    n_features=6,\n",
    "    normalize=True,\n",
    "    flip_pitch=True\n",
    ")\n",
    "len(train_dataset)"
   ]
  },
  {
   "cell_type": "code",
   "execution_count": 183,
   "metadata": {},
   "outputs": [
    {
     "data": {
      "text/plain": [
       "array([200, 200, 200, 187, 200])"
      ]
     },
     "execution_count": 183,
     "metadata": {},
     "output_type": "execute_result"
    }
   ],
   "source": [
    "player_data = train_dataset[75:80][0]\n",
    "ball_data = train_dataset[75:80][1]\n",
    "valid_lens = np.array(player_data[..., 0] != -100).astype(int).sum(axis=-1)\n",
    "valid_lens"
   ]
  },
  {
   "cell_type": "code",
   "execution_count": 173,
   "metadata": {},
   "outputs": [
    {
     "data": {
      "text/plain": [
       "(array([[ 89, 103, 190,  91,  20,  94, 190,  18, 131,  78,  99,  20,  20,\n",
       "          74,  40, 139, 115, 190, 103, 190,  16, 190],\n",
       "        [ 38,   7,  48,  65, 170, 190, 163,  57, 190,  32,  33, 128, 190,\n",
       "          45,  55, 102, 175, 190, 109,  48, 138,  27],\n",
       "        [151,  91,  55,  39,  76,  98, 181, 105,  16,  11, 162,  46,  10,\n",
       "          38, 190,   6, 190, 190, 185,  17, 154, 189],\n",
       "        [133,  82, 105, 104,  36,  64, 177,  39, 114,  87,  39,  73,  46,\n",
       "         177, 177,  50, 177,  35,  22,  31, 177, 112],\n",
       "        [ 49, 105,  73,  74,  64,  43,  60, 190,  62,  92, 190,  31, 178,\n",
       "          98, 190, 104,  85,  41, 126,  68,  99, 178]]),\n",
       " array([100, 100, 100,  93, 100]))"
      ]
     },
     "execution_count": 173,
     "metadata": {},
     "output_type": "execute_result"
    }
   ],
   "source": [
    "n_players = 22\n",
    "missing_rate = 0.5\n",
    "\n",
    "mask = np.ones((player_data.shape[0], player_data.shape[1], n_players))\n",
    "missing_lens = np.zeros((mask.shape[0], n_players)).astype(int)  # [bs, players]\n",
    "\n",
    "residue = (valid_lens * n_players * missing_rate).astype(int)  # [bs,]\n",
    "max_shares = np.tile(valid_lens - 10, (n_players, 1)).T  # [bs, players]\n",
    "assert np.all(residue < max_shares.sum(axis=-1))\n",
    "\n",
    "for i in range(mask.shape[0]):\n",
    "    while residue[i] > 0:\n",
    "        slots = missing_lens[i] < max_shares[i]  # [players,]\n",
    "        breakpoints = np.random.choice(residue[i] + 1, slots.astype(int).sum() - 1, replace=True)  # [players - 1,]\n",
    "        shares = np.diff(np.sort(breakpoints.tolist() + [0, residue[i]]))  # [players,]\n",
    "        # print()\n",
    "        # print(residue)\n",
    "        # print(slots.astype(int))\n",
    "        # print(shares)\n",
    "\n",
    "        missing_lens[i, ~slots] = max_shares[i, ~slots]\n",
    "        missing_lens[i, slots] += shares\n",
    "        residue[i] = np.clip(missing_lens[i] - max_shares[i], 0, None).sum()\n",
    "        # print(missing_lens[i])\n",
    "\n",
    "start_idxs = np.random.randint(1, max_shares - missing_lens + 2)  # [bs, players]\n",
    "end_idxs = start_idxs + missing_lens  # [bs, players]\n",
    "\n",
    "for i in range(mask.shape[0]):\n",
    "    for p in range(n_players):\n",
    "        mask[i, start_idxs[i, p] : end_idxs[i, p], p] = 0\n",
    "\n",
    "missing_lens, missing_lens.sum(axis=1) // n_players"
   ]
  },
  {
   "cell_type": "code",
   "execution_count": 188,
   "metadata": {},
   "outputs": [],
   "source": [
    "data_dict = {\"target\": player_data, \"ball\": ball_data}\n",
    "mask = generate_mask(data_dict, mode=\"playerwise\", missing_rate=0.5)"
   ]
  }
 ],
 "metadata": {
  "kernelspec": {
   "display_name": "choi",
   "language": "python",
   "name": "python3"
  },
  "language_info": {
   "codemirror_mode": {
    "name": "ipython",
    "version": 3
   },
   "file_extension": ".py",
   "mimetype": "text/x-python",
   "name": "python",
   "nbconvert_exporter": "python",
   "pygments_lexer": "ipython3",
   "version": "3.10.8"
  }
 },
 "nbformat": 4,
 "nbformat_minor": 2
}
