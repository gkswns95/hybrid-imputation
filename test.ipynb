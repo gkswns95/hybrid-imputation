{
 "cells": [
  {
   "cell_type": "code",
   "execution_count": 1,
   "metadata": {},
   "outputs": [],
   "source": [
    "%load_ext autoreload\n",
    "%autoreload 2\n",
    "\n",
    "import os\n",
    "\n",
    "import numpy as np\n",
    "\n",
    "from dataset import SportsDataset\n",
    "from models.utils import generate_mask"
   ]
  },
  {
   "cell_type": "code",
   "execution_count": null,
   "metadata": {},
   "outputs": [],
   "source": [
    "sports = \"soccer\"\n",
    "\n",
    "if sports == \"soccer\":\n",
    "    metrica_files = [\"match1.csv\", \"match2.csv\", \"match3_valid.csv\", \"match3_test.csv\"]\n",
    "    metrica_paths = [f\"data/metrica_traces/{f}\" for f in metrica_files]\n",
    "    data_paths = metrica_paths[-1:]\n",
    "\n",
    "elif sports == \"basketball\":\n",
    "    nba_files = os.listdir(\"data/nba_traces\")\n",
    "    nba_paths = [f\"data/nba_traces/{f}\" for f in nba_files]\n",
    "    nba_paths.sort()\n",
    "    data_paths = nba_paths[:10]\n",
    "\n",
    "else:  # sports == \"afootball\"\n",
    "    nfl_paths = [\"data/nfl_traces/nfl_train.csv\", \"data/nfl_traces/nfl_test.csv\"]\n",
    "    data_paths = nfl_paths[:-1]\n",
    "\n",
    "data_paths"
   ]
  },
  {
   "cell_type": "code",
   "execution_count": null,
   "metadata": {},
   "outputs": [],
   "source": [
    "window_size = 600\n",
    "dataset = SportsDataset(\n",
    "    sports=sports,\n",
    "    data_paths=data_paths,\n",
    "    n_features=6,\n",
    "    window_size=window_size,\n",
    "    normalize=True,\n",
    "    flip_pitch=True\n",
    ")\n",
    "len(dataset)"
   ]
  },
  {
   "cell_type": "code",
   "execution_count": null,
   "metadata": {},
   "outputs": [],
   "source": [
    "player_data = dataset.player_data.to(\"cuda:0\")\n",
    "ball_data = dataset.ball_data.to(\"cuda:0\")\n",
    "\n",
    "if player_data.is_cuda:\n",
    "    valid_frames = np.array(player_data.cpu()[..., 0] != -100).astype(int).sum(axis=-1)\n",
    "else:\n",
    "    valid_frames = np.array(player_data[..., 0] != -100).astype(int).sum(axis=-1)\n",
    "\n",
    "len(valid_frames), (valid_frames < window_size).astype(int).sum()"
   ]
  },
  {
   "cell_type": "code",
   "execution_count": null,
   "metadata": {},
   "outputs": [],
   "source": [
    "data_dict = {\"target\": player_data, \"ball\": ball_data}\n",
    "mask, missing_rate = generate_mask(data_dict, mode=\"camera\")\n",
    "mask.shape, round(missing_rate, 4)"
   ]
  },
  {
   "cell_type": "code",
   "execution_count": null,
   "metadata": {},
   "outputs": [],
   "source": [
    "n_players = 22\n",
    "missing_rate = 0.5\n",
    "verbose = False\n",
    "\n",
    "mask = np.ones((player_data.shape[0], player_data.shape[1], n_players))\n",
    "missing_frames = np.zeros((mask.shape[0], n_players)).astype(int)  # [bs, players]\n",
    "\n",
    "residue = (valid_frames * n_players * missing_rate).astype(int)  # [bs,]\n",
    "max_shares = np.tile(valid_frames - 10, (n_players, 1)).T  # [bs, players]\n",
    "assert np.all(residue < max_shares.sum(axis=-1))\n",
    "\n",
    "for i in range(mask.shape[0]):\n",
    "    while residue[i] > 0:\n",
    "        slots = missing_frames[i] < max_shares[i]  # [players,]\n",
    "        breakpoints = np.random.choice(residue[i] + 1, slots.astype(int).sum() - 1, replace=True)  # [players - 1,]\n",
    "        shares = np.diff(np.sort(breakpoints.tolist() + [0, residue[i]]))  # [players,]\n",
    "        if verbose:\n",
    "            print()\n",
    "            print(residue)\n",
    "            print(slots.astype(int))\n",
    "            print(shares)\n",
    "\n",
    "        missing_frames[i, ~slots] = max_shares[i, ~slots]\n",
    "        missing_frames[i, slots] += shares\n",
    "        residue[i] = np.clip(missing_frames[i] - max_shares[i], 0, None).sum()\n",
    "        if verbose:\n",
    "            print(missing_frames[i])\n",
    "\n",
    "start_idxs = np.random.randint(1, max_shares - missing_frames + 2)  # [bs, players]\n",
    "end_idxs = start_idxs + missing_frames  # [bs, players]\n",
    "\n",
    "for i in range(mask.shape[0]):\n",
    "    for p in range(n_players):\n",
    "        mask[i, start_idxs[i, p] : end_idxs[i, p], p] = 0\n",
    "\n",
    "missing_frames, missing_frames.sum(axis=1) // n_players"
   ]
  },
  {
   "cell_type": "code",
   "execution_count": null,
   "metadata": {},
   "outputs": [],
   "source": []
  },
  {
   "cell_type": "code",
   "execution_count": 11,
   "metadata": {},
   "outputs": [
    {
     "name": "stdout",
     "output_type": "stream",
     "text": [
      "Missing rate for batch 0 : 0.5\n",
      "Missing rate for batch 1 : 0.5\n",
      "Missing rate for batch 2 : 0.5\n",
      "Missing rate for batch 3 : 0.5\n",
      "Missing rate for batch 4 : 0.5\n",
      "Missing rate for batch 5 : 0.5\n",
      "Missing rate for batch 6 : 0.5\n",
      "Missing rate for batch 7 : 0.5\n",
      "Missing rate for batch 8 : 0.5\n",
      "Missing rate for batch 9 : 0.5\n",
      "Missing rate for batch 10 : 0.5\n",
      "Missing rate for batch 11 : 0.5\n",
      "Missing rate for batch 12 : 0.5\n",
      "Missing rate for batch 13 : 0.5\n",
      "Missing rate for batch 14 : 0.5\n",
      "Missing rate for batch 15 : 0.5\n",
      "Missing rate for batch 16 : 0.5\n",
      "Missing rate for batch 17 : 0.5\n",
      "Missing rate for batch 18 : 0.5\n",
      "Missing rate for batch 19 : 0.5\n",
      "Missing rate for batch 20 : 0.5\n",
      "Missing rate for batch 21 : 0.5\n",
      "Missing rate for batch 22 : 0.5\n",
      "Missing rate for batch 23 : 0.5\n",
      "Missing rate for batch 24 : 0.5\n",
      "Missing rate for batch 25 : 0.5\n",
      "Missing rate for batch 26 : 0.5\n",
      "Missing rate for batch 27 : 0.5\n",
      "Missing rate for batch 28 : 0.5\n",
      "Missing rate for batch 29 : 0.5\n",
      "Missing rate for batch 30 : 0.5\n",
      "Missing rate for batch 31 : 0.5\n"
     ]
    }
   ],
   "source": [
    "import random\n",
    "import numpy as np\n",
    "import torch\n",
    "\n",
    "player_data = torch.zeros(32, 200, 22)\n",
    "\n",
    "mask = np.ones((player_data.shape[0], player_data.shape[1], 22))  # [bs, time, players]\n",
    "window_size = player_data.shape[1]\n",
    "missing_len = int(window_size * 0.5)\n",
    "\n",
    "mask[:, random.sample(range(1, window_size - 1), missing_len)] = 0\n",
    "\n",
    "for i in range(mask.shape[0]):\n",
    "    print(f\"Missing rate for batch {i} : {(mask[i] == 0).sum() / mask[i].reshape(-1).shape[0]}\")"
   ]
  }
 ],
 "metadata": {
  "kernelspec": {
   "display_name": "choi",
   "language": "python",
   "name": "python3"
  },
  "language_info": {
   "codemirror_mode": {
    "name": "ipython",
    "version": 3
   },
   "file_extension": ".py",
   "mimetype": "text/x-python",
   "name": "python",
   "nbconvert_exporter": "python",
   "pygments_lexer": "ipython3",
   "version": "3.8.18"
  }
 },
 "nbformat": 4,
 "nbformat_minor": 2
}
