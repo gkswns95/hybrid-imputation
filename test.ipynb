{
 "cells": [
  {
   "cell_type": "code",
   "execution_count": 1,
   "metadata": {},
   "outputs": [],
   "source": [
    "%load_ext autoreload\n",
    "%autoreload 2\n",
    "\n",
    "import os\n",
    "\n",
    "import numpy as np\n",
    "\n",
    "from dataset import SportsDataset\n",
    "from models.utils import generate_mask"
   ]
  },
  {
   "cell_type": "code",
   "execution_count": 17,
   "metadata": {},
   "outputs": [
    {
     "data": {
      "text/plain": [
       "['data/metrica_traces/match3_test.csv']"
      ]
     },
     "execution_count": 17,
     "metadata": {},
     "output_type": "execute_result"
    }
   ],
   "source": [
    "sports = \"soccer\"\n",
    "\n",
    "if sports == \"soccer\":\n",
    "    metrica_files = [\"match1.csv\", \"match2.csv\", \"match3_valid.csv\", \"match3_test.csv\"]\n",
    "    metrica_paths = [f\"data/metrica_traces/{f}\" for f in metrica_files]\n",
    "    data_paths = metrica_paths[-1:]\n",
    "\n",
    "elif sports == \"basketball\":\n",
    "    nba_files = os.listdir(\"data/nba_traces\")\n",
    "    nba_paths = [f\"data/nba_traces/{f}\" for f in nba_files]\n",
    "    nba_paths.sort()\n",
    "    data_paths = nba_paths[:10]\n",
    "\n",
    "else:  # sports == \"afootball\"\n",
    "    nfl_paths = [\"data/nfl_traces/nfl_train.csv\", \"data/nfl_traces/nfl_test.csv\"]\n",
    "    data_paths = nfl_paths[:-1]\n",
    "\n",
    "data_paths"
   ]
  },
  {
   "cell_type": "code",
   "execution_count": 35,
   "metadata": {},
   "outputs": [
    {
     "name": "stderr",
     "output_type": "stream",
     "text": [
      "  0%|          | 0/1 [00:00<?, ?it/s]"
     ]
    },
    {
     "name": "stderr",
     "output_type": "stream",
     "text": [
      "100%|██████████| 1/1 [00:04<00:00,  4.16s/it]\n"
     ]
    },
    {
     "data": {
      "text/plain": [
       "49"
      ]
     },
     "execution_count": 35,
     "metadata": {},
     "output_type": "execute_result"
    }
   ],
   "source": [
    "window_size = 600\n",
    "dataset = SportsDataset(\n",
    "    sports=sports,\n",
    "    data_paths=data_paths,\n",
    "    n_features=6,\n",
    "    window_size=window_size,\n",
    "    normalize=True,\n",
    "    flip_pitch=True\n",
    ")\n",
    "len(dataset)"
   ]
  },
  {
   "cell_type": "code",
   "execution_count": 36,
   "metadata": {},
   "outputs": [
    {
     "data": {
      "text/plain": [
       "(49, 21)"
      ]
     },
     "execution_count": 36,
     "metadata": {},
     "output_type": "execute_result"
    }
   ],
   "source": [
    "player_data = dataset.player_data.to(\"cuda:0\")\n",
    "ball_data = dataset.ball_data.to(\"cuda:0\")\n",
    "\n",
    "if player_data.is_cuda:\n",
    "    valid_frames = np.array(player_data.cpu()[..., 0] != -100).astype(int).sum(axis=-1)\n",
    "else:\n",
    "    valid_frames = np.array(player_data[..., 0] != -100).astype(int).sum(axis=-1)\n",
    "\n",
    "len(valid_frames), (valid_frames < window_size).astype(int).sum()"
   ]
  },
  {
   "cell_type": "code",
   "execution_count": 37,
   "metadata": {},
   "outputs": [
    {
     "data": {
      "text/plain": [
       "((49, 600, 22), 0.5593)"
      ]
     },
     "execution_count": 37,
     "metadata": {},
     "output_type": "execute_result"
    }
   ],
   "source": [
    "data_dict = {\"target\": player_data, \"ball\": ball_data}\n",
    "mask, missing_rate = generate_mask(data_dict, mode=\"camera\")\n",
    "mask.shape, round(missing_rate, 4)"
   ]
  },
  {
   "cell_type": "code",
   "execution_count": 6,
   "metadata": {},
   "outputs": [
    {
     "data": {
      "text/plain": [
       "(array([[190,  39,  78,  93,  50, 190,  49, 100, 190, 119,  82, 188,  20,\n",
       "          73,  41, 190,  80,  47, 190,  28,  91,  72],\n",
       "        [101, 103,  64,  95, 190, 136,  36,  20,  25, 138, 190, 127,  32,\n",
       "         113,  53,  57, 190, 190, 190,  89,  29,  32],\n",
       "        [ 26,  37,  27,  70,  19, 190, 190, 161, 190,  59, 142,  57,  37,\n",
       "         171, 123,  15, 141, 187,  31,  81, 190,  56],\n",
       "        [ 43, 116, 177,  61, 114, 130, 130,  19,  80, 156,  95, 177,  41,\n",
       "           7, 169,  91,  28,  66,  21, 133,  26, 177],\n",
       "        [190,  47,  77,  47, 136, 105, 154,  35, 190,  80,  84, 154, 160,\n",
       "          35, 118, 190,  31,  69,  34, 185,  11,  68]]),\n",
       " array([100, 100, 100,  93, 100]))"
      ]
     },
     "execution_count": 6,
     "metadata": {},
     "output_type": "execute_result"
    }
   ],
   "source": [
    "n_players = 22\n",
    "missing_rate = 0.5\n",
    "verbose = False\n",
    "\n",
    "mask = np.ones((player_data.shape[0], player_data.shape[1], n_players))\n",
    "missing_frames = np.zeros((mask.shape[0], n_players)).astype(int)  # [bs, players]\n",
    "\n",
    "residue = (valid_frames * n_players * missing_rate).astype(int)  # [bs,]\n",
    "max_shares = np.tile(valid_frames - 10, (n_players, 1)).T  # [bs, players]\n",
    "assert np.all(residue < max_shares.sum(axis=-1))\n",
    "\n",
    "for i in range(mask.shape[0]):\n",
    "    while residue[i] > 0:\n",
    "        slots = missing_frames[i] < max_shares[i]  # [players,]\n",
    "        breakpoints = np.random.choice(residue[i] + 1, slots.astype(int).sum() - 1, replace=True)  # [players - 1,]\n",
    "        shares = np.diff(np.sort(breakpoints.tolist() + [0, residue[i]]))  # [players,]\n",
    "        if verbose:\n",
    "            print()\n",
    "            print(residue)\n",
    "            print(slots.astype(int))\n",
    "            print(shares)\n",
    "\n",
    "        missing_frames[i, ~slots] = max_shares[i, ~slots]\n",
    "        missing_frames[i, slots] += shares\n",
    "        residue[i] = np.clip(missing_frames[i] - max_shares[i], 0, None).sum()\n",
    "        if verbose:\n",
    "            print(missing_frames[i])\n",
    "\n",
    "start_idxs = np.random.randint(1, max_shares - missing_frames + 2)  # [bs, players]\n",
    "end_idxs = start_idxs + missing_frames  # [bs, players]\n",
    "\n",
    "for i in range(mask.shape[0]):\n",
    "    for p in range(n_players):\n",
    "        mask[i, start_idxs[i, p] : end_idxs[i, p], p] = 0\n",
    "\n",
    "missing_frames, missing_frames.sum(axis=1) // n_players"
   ]
  }
 ],
 "metadata": {
  "kernelspec": {
   "display_name": "choi",
   "language": "python",
   "name": "python3"
  },
  "language_info": {
   "codemirror_mode": {
    "name": "ipython",
    "version": 3
   },
   "file_extension": ".py",
   "mimetype": "text/x-python",
   "name": "python",
   "nbconvert_exporter": "python",
   "pygments_lexer": "ipython3",
   "version": "3.10.8"
  }
 },
 "nbformat": 4,
 "nbformat_minor": 2
}
