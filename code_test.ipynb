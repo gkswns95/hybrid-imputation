{
 "cells": [
  {
   "cell_type": "code",
   "execution_count": 1,
   "metadata": {},
   "outputs": [],
   "source": [
    "%load_ext autoreload\n",
    "%autoreload 2\n",
    "\n",
    "import os\n",
    "\n",
    "import torch\n",
    "import numpy as np\n",
    "\n",
    "from datatools.trace_animator import TraceAnimator\n",
    "from dataset import SportsDataset\n",
    "from models.utils import *"
   ]
  },
  {
   "cell_type": "code",
   "execution_count": 2,
   "metadata": {},
   "outputs": [],
   "source": [
    "import torch\n",
    "\n",
    "time_gap_prev = torch.load(\"./debug_files/time_gap_prev\")\n",
    "time_gap_curr = torch.load(\"./debug_files/time_gap_curr\")"
   ]
  },
  {
   "cell_type": "code",
   "execution_count": 3,
   "metadata": {},
   "outputs": [
    {
     "data": {
      "text/plain": [
       "torch.Size([1, 200, 44])"
      ]
     },
     "execution_count": 3,
     "metadata": {},
     "output_type": "execute_result"
    }
   ],
   "source": [
    "time_gap_curr_x = time_gap_curr[..., 0::6, None]\n",
    "time_gap_curr_y = time_gap_curr[..., 1::6, None]\n",
    "\n",
    "time_gap_curr = torch.cat([time_gap_curr_x, time_gap_curr_y], dim=-1).flatten(2,3)\n",
    "time_gap_curr.shape"
   ]
  },
  {
   "cell_type": "code",
   "execution_count": 4,
   "metadata": {},
   "outputs": [
    {
     "data": {
      "text/plain": [
       "tensor(8800)"
      ]
     },
     "execution_count": 4,
     "metadata": {},
     "output_type": "execute_result"
    }
   ],
   "source": [
    "(time_gap_prev == time_gap_curr).sum()"
   ]
  },
  {
   "cell_type": "code",
   "execution_count": 5,
   "metadata": {},
   "outputs": [
    {
     "data": {
      "text/plain": [
       "8800"
      ]
     },
     "execution_count": 5,
     "metadata": {},
     "output_type": "execute_result"
    }
   ],
   "source": [
    "time_gap_curr.reshape(-1).shape[0]"
   ]
  },
  {
   "cell_type": "code",
   "execution_count": 6,
   "metadata": {},
   "outputs": [],
   "source": [
    "import torch\n",
    "\n",
    "input_prev = torch.load(\"./debug_files/input_prev\")\n",
    "input_curr = torch.load(\"./debug_files/input_curr\")"
   ]
  },
  {
   "cell_type": "code",
   "execution_count": 7,
   "metadata": {},
   "outputs": [
    {
     "data": {
      "text/plain": [
       "torch.Size([1, 200, 44])"
      ]
     },
     "execution_count": 7,
     "metadata": {},
     "output_type": "execute_result"
    }
   ],
   "source": [
    "input_prev.shape"
   ]
  },
  {
   "cell_type": "code",
   "execution_count": 8,
   "metadata": {},
   "outputs": [
    {
     "data": {
      "text/plain": [
       "torch.Size([1, 200, 44])"
      ]
     },
     "execution_count": 8,
     "metadata": {},
     "output_type": "execute_result"
    }
   ],
   "source": [
    "input_curr = input_curr.reshape(1, 200, 22, -1)[..., : 2].flatten(2, 3) # [time, bs, players * feats]\n",
    "input_curr.shape"
   ]
  },
  {
   "cell_type": "code",
   "execution_count": 9,
   "metadata": {},
   "outputs": [
    {
     "data": {
      "text/plain": [
       "tensor(8800, device='cuda:0')"
      ]
     },
     "execution_count": 9,
     "metadata": {},
     "output_type": "execute_result"
    }
   ],
   "source": [
    "(input_prev == input_curr).sum()"
   ]
  },
  {
   "cell_type": "code",
   "execution_count": 10,
   "metadata": {},
   "outputs": [],
   "source": [
    "import torch\n",
    "\n",
    "target_prev = torch.load(\"./debug_files/target_prev\")\n",
    "target_curr = torch.load(\"./debug_files/target_curr\")"
   ]
  },
  {
   "cell_type": "code",
   "execution_count": 11,
   "metadata": {},
   "outputs": [
    {
     "data": {
      "text/plain": [
       "torch.Size([1, 200, 44])"
      ]
     },
     "execution_count": 11,
     "metadata": {},
     "output_type": "execute_result"
    }
   ],
   "source": [
    "target_curr = target_curr.reshape(1, 200, 22, -1)[..., : 2].flatten(2, 3) # [time, bs, players * feats]\n",
    "target_curr.shape"
   ]
  },
  {
   "cell_type": "code",
   "execution_count": 12,
   "metadata": {},
   "outputs": [
    {
     "data": {
      "text/plain": [
       "tensor(8800, device='cuda:0')"
      ]
     },
     "execution_count": 12,
     "metadata": {},
     "output_type": "execute_result"
    }
   ],
   "source": [
    "(target_prev == target_curr).sum()"
   ]
  },
  {
   "cell_type": "code",
   "execution_count": 13,
   "metadata": {},
   "outputs": [],
   "source": [
    "import torch\n",
    "\n",
    "mask_prev = torch.load(\"./debug_files/mask_prev\").detach().cpu()\n",
    "mask_curr = torch.load(\"./debug_files/mask_curr\").detach().cpu()"
   ]
  },
  {
   "cell_type": "code",
   "execution_count": 14,
   "metadata": {},
   "outputs": [
    {
     "data": {
      "text/plain": [
       "torch.Size([1, 200, 44])"
      ]
     },
     "execution_count": 14,
     "metadata": {},
     "output_type": "execute_result"
    }
   ],
   "source": [
    "mask_curr = mask_curr.reshape(1, 200, 22, -1)[..., : 2].flatten(2, 3) # [time, bs, players * feats]\n",
    "mask_curr.shape"
   ]
  },
  {
   "cell_type": "code",
   "execution_count": 15,
   "metadata": {},
   "outputs": [
    {
     "data": {
      "text/plain": [
       "tensor(8800)"
      ]
     },
     "execution_count": 15,
     "metadata": {},
     "output_type": "execute_result"
    }
   ],
   "source": [
    "(mask_prev == mask_curr).sum()"
   ]
  },
  {
   "cell_type": "code",
   "execution_count": 16,
   "metadata": {},
   "outputs": [],
   "source": [
    "import torch\n",
    "\n",
    "pred_prev = np.array(torch.load(\"./debug_files/pred_prev\").detach().cpu().squeeze(0))\n",
    "pred_curr = np.array(torch.load(\"./debug_files/pred_curr\").detach().cpu().squeeze(0))"
   ]
  },
  {
   "cell_type": "code",
   "execution_count": 17,
   "metadata": {},
   "outputs": [],
   "source": [
    "k = 0\n",
    "\n",
    "obs_idxs = np.where((mask_curr[0, :, 2 * k] != 0) | (mask_curr[0, :, 2 * k + 1] != 0))\n",
    "missing_idxs = np.setdiff1d(np.arange(200), obs_idxs)"
   ]
  },
  {
   "cell_type": "code",
   "execution_count": 18,
   "metadata": {},
   "outputs": [
    {
     "data": {
      "image/png": "[encoded data removed]",
      "text/plain": [
       "<Figure size 640x480 with 1 Axes>"
      ]
     },
     "metadata": {},
     "output_type": "display_data"
    }
   ],
   "source": [
    "import matplotlib.pyplot as plt\n",
    "%matplotlib inline\n",
    "\n",
    "plt.scatter(pred_curr[missing_idxs, 0] * 108, pred_curr[missing_idxs, 1] * 72)\n",
    "plt.show()"
   ]
  },
  {
   "cell_type": "code",
   "execution_count": 19,
   "metadata": {},
   "outputs": [
    {
     "data": {
      "image/png": "[encoded data removed]",
      "text/plain": [
       "<Figure size 640x480 with 1 Axes>"
      ]
     },
     "metadata": {},
     "output_type": "display_data"
    }
   ],
   "source": [
    "import matplotlib.pyplot as plt\n",
    "%matplotlib inline\n",
    "\n",
    "plt.scatter(pred_prev[missing_idxs, 0], pred_prev[missing_idxs, 1])\n",
    "plt.show()"
   ]
  },
  {
   "cell_type": "markdown",
   "metadata": {},
   "source": [
    "## Getting input data"
   ]
  },
  {
   "cell_type": "code",
   "execution_count": null,
   "metadata": {},
   "outputs": [],
   "source": [
    "dataset = \"soccer\" # [\"soccer\", \"basketball\", \"afootball\"]\n",
    "window_size = 50 if dataset == \"afootball\" else 200\n",
    "window_stride = 5\n",
    "\n",
    "normalize = True\n",
    "flip_pitch = False if dataset == \"basketball\" else True"
   ]
  },
  {
   "cell_type": "code",
   "execution_count": null,
   "metadata": {},
   "outputs": [],
   "source": [
    "if dataset == \"soccer\":  # Soccer (Metrica) datasets\n",
    "    metrica_files = [\"match1.csv\", \"match2.csv\", \"match3_valid.csv\"]\n",
    "    metrica_paths = [f\"data/metrica_traces/{f}\" for f in metrica_files]\n",
    "    train_paths = metrica_paths[:-1]\n",
    "    valid_paths = metrica_paths[-1:]\n",
    "    window_size = window_size\n",
    "    episode_min_len = window_size\n",
    "\n",
    "elif dataset == \"basketball\":  # Basketball (NBA) dataset\n",
    "    nba_files = os.listdir(\"data/nba_traces\")\n",
    "    nba_paths = [f\"data/nba_traces/{f}\" for f in nba_files]\n",
    "    nba_paths.sort()\n",
    "    train_paths = nba_paths[0:1]\n",
    "    valid_paths = nba_paths[98:99]\n",
    "    # valid_paths = nba_paths[70:90]\n",
    "    window_size = window_size\n",
    "    episode_min_len = window_size\n",
    "\n",
    "else:  # American football (NFL) dataset\n",
    "    nfl_paths = [\"data/nfl_traces/nfl_train.csv\", \"data/nfl_traces/nfl_test.csv\"]\n",
    "    train_paths = nfl_paths[:-1]\n",
    "    valid_paths = nfl_paths[-1:]\n",
    "    window_size = window_size\n",
    "    episode_min_len = window_size\n",
    "\n",
    "train_dataset = SportsDataset(\n",
    "    sports=dataset,\n",
    "    data_paths=train_paths,\n",
    "    window_size=window_size,\n",
    "    min_episode_size=episode_min_len,\n",
    "    stride=window_stride,\n",
    "    normalize=normalize,\n",
    "    flip_pitch=flip_pitch,\n",
    ")\n",
    "valid_dataset = SportsDataset(\n",
    "    sports=dataset,\n",
    "    data_paths=valid_paths,\n",
    "    window_size=window_size,\n",
    "    min_episode_size=episode_min_len,\n",
    "    stride=window_size,\n",
    "    normalize=normalize,\n",
    "    flip_pitch=False,\n",
    ")"
   ]
  },
  {
   "cell_type": "code",
   "execution_count": null,
   "metadata": {},
   "outputs": [],
   "source": [
    "player_data, ball_data = train_dataset[0]\n",
    "\n",
    "player_data.unsqueeze_(0)\n",
    "ball_data.unsqueeze_(0)\n",
    "\n",
    "player_data.shape, ball_data.shape"
   ]
  },
  {
   "cell_type": "code",
   "execution_count": null,
   "metadata": {},
   "outputs": [],
   "source": [
    "mask, missing_rate = generate_mask(\n",
    "    data={\"target\": player_data, \"ball\": ball_data},\n",
    "    sports=dataset,\n",
    "    mode=\"camera\",\n",
    "    missing_rate=0.5,\n",
    ")  # [bs, time, players]\n",
    "\n",
    "mask = torch.tensor(mask, dtype=torch.float32)  # [bs, time, team_size]\n",
    "mask = torch.repeat_interleave(mask, 6, dim=-1)\n",
    "\n",
    "print(f\"Mask shape : {mask.shape}\")\n",
    "print(f\"Missing rate : {missing_rate}\")"
   ]
  },
  {
   "cell_type": "markdown",
   "metadata": {},
   "source": [
    "## Plotting Trajectories"
   ]
  },
  {
   "cell_type": "code",
   "execution_count": null,
   "metadata": {},
   "outputs": [],
   "source": [
    "masked_input = player_data * mask\n",
    "target = player_data\n",
    "mask = mask"
   ]
  },
  {
   "cell_type": "code",
   "execution_count": null,
   "metadata": {},
   "outputs": [],
   "source": [
    "bs, seq_len = masked_input.shape[:2]\n",
    "n_players, _ = get_dataset_config(dataset=dataset)\n",
    "n_features = 2\n",
    "\n",
    "input = masked_input.reshape(bs, seq_len, n_players, -1)[..., : n_features].flatten(2, 3) # [time, bs, players * feats]\n",
    "target = target.reshape(bs, seq_len, n_players, -1)[..., : n_features].flatten(2, 3) # [time, bs, players * feats]\n",
    "mask = mask.reshape(bs, seq_len, n_players, -1)[..., : n_features].flatten(2, 3)"
   ]
  },
  {
   "cell_type": "code",
   "execution_count": null,
   "metadata": {},
   "outputs": [],
   "source": [
    "import matplotlib.pyplot as plt\n",
    "%matplotlib inline\n",
    "\n",
    "k = 1\n",
    "\n",
    "obs_idxs = np.where((mask[0, :, 2 * k] != 0) | (mask[0, :, 2 * k + 1] != 0))\n",
    "missing_idxs = np.setdiff1d(np.arange(input[0].shape[0]), obs_idxs)\n",
    "\n",
    "# Plot observed trajectories\n",
    "plt.scatter(\n",
    "    input[0, obs_idxs, 2 * k],\n",
    "    input[0, obs_idxs, 2 * k + 1],\n",
    "    marker=\"o\",\n",
    "    c=\"red\",\n",
    "    s=10,\n",
    "    zorder=0,\n",
    "    label=\"Observed\"\n",
    ")\n",
    "# Plot target trajectories\n",
    "plt.plot(target[0, :, 2 * k], target[0, :, 2 * k + 1], c=\"blue\", alpha=0.6, label=\"Target\")\n",
    "\n",
    "plt.legend()\n",
    "plt.show()"
   ]
  },
  {
   "cell_type": "markdown",
   "metadata": {},
   "source": [
    "## Plotting Masking matrix"
   ]
  },
  {
   "cell_type": "code",
   "execution_count": null,
   "metadata": {},
   "outputs": [],
   "source": [
    "mask_dict = {}\n",
    "for missing_pattern in [\"uniform\", \"playerwise\", \"camera\"]:\n",
    "    mask, missing_rate = generate_mask(\n",
    "        data={\"target\": player_data, \"ball\": ball_data},\n",
    "        sports=dataset,\n",
    "        mode=missing_pattern,\n",
    "        missing_rate=0.5,\n",
    "    )  # [bs, time, players]\n",
    "\n",
    "    mask = torch.tensor(mask, dtype=torch.float32)  # [bs, time, team_size]\n",
    "    # mask = torch.repeat_interleave(mask, 6, dim=-1)\n",
    "\n",
    "    mask_dict[missing_pattern] = mask\n",
    "\n",
    "    print(f\"Pattern : {missing_pattern}, Missing Rate : {missing_rate}\")"
   ]
  },
  {
   "cell_type": "code",
   "execution_count": null,
   "metadata": {},
   "outputs": [],
   "source": [
    "import matplotlib.colors as mcl\n",
    "import matplotlib.patches as mpatches\n",
    "\n",
    "\n",
    "colors_gray_to_blue = [\"#F2F2F2\", \"#7895CB\"]\n",
    "cmap = mcl.LinearSegmentedColormap.from_list(\"custom_cmap\", colors_gray_to_blue, gamma=2)\n",
    "\n",
    "im = plt.imshow(mask_dict[\"uniform\"][0], cmap = cmap)\n",
    "labels = [\"Missing\", \"Observed\"]\n",
    "values = [0, 1]\n",
    "colors = [im.cmap(im.norm(value)) for value in values]\n",
    "patches = [mpatches.Patch(color=colors[i], label= labels[i]) for i in range(len(values)) ]\n",
    "\n",
    "cmap"
   ]
  },
  {
   "cell_type": "code",
   "execution_count": null,
   "metadata": {},
   "outputs": [],
   "source": [
    "plt.rcParams[\"font.family\"] = \"sans-serif\"\n",
    "f, axes = plt.subplots(1,3)\n",
    "f.set_size_inches((20,7))\n",
    "\n",
    "for i, (k,v) in enumerate(mask_dict.items()):\n",
    "    axes[i].imshow(mask_dict[k][0], cmap=cmap, interpolation=\"nearest\", aspect=\"auto\")\n",
    "    axes[i].set_xticks([p for p in range(22) if p % 4 == 0])\n",
    "    axes[i].set_xticklabels([p for p in range(22) if p % 4 == 0], fontsize=30)\n",
    "    axes[i].set_yticks([s for s in range(200) if s % 40 == 0])\n",
    "    axes[i].set_yticklabels([s for s in range(200) if s % 40 == 0], fontsize=30)\n",
    "\n",
    "    axes[i].set_xlabel(\"Agent\", fontsize=40)\n",
    "    axes[i].set_ylabel(\"Time step\", fontsize=40)\n",
    "    if k == \"playerwise\":\n",
    "        k = \"agent-wise\"\n",
    "    axes[i].set_title(k.capitalize(), fontsize=45, pad=20)\n",
    "\n",
    "f.legend(handles = patches, bbox_to_anchor = (0.5, -0.15), loc = \"lower center\", prop = {\"size\" : 30}, ncol = 2)\n",
    "\n",
    "plt.tight_layout()\n",
    "plt.show()"
   ]
  },
  {
   "cell_type": "markdown",
   "metadata": {},
   "source": [
    "## Visualizing camera missing pattern"
   ]
  },
  {
   "cell_type": "code",
   "execution_count": null,
   "metadata": {},
   "outputs": [],
   "source": [
    "import matplotlib.patches as patches\n",
    "from shapely.geometry import Point, Polygon"
   ]
  },
  {
   "cell_type": "code",
   "execution_count": null,
   "metadata": {},
   "outputs": [],
   "source": [
    "player_pos = reshape_tensor(player_data, upscale=True, dataset_type=\"soccer\")  # [bs, time, players, 2]\n",
    "ball_pos = normalize_tensor(ball_data, mode=\"upscale\", dataset_type=\"soccer\")"
   ]
  },
  {
   "cell_type": "code",
   "execution_count": null,
   "metadata": {},
   "outputs": [],
   "source": [
    "time = 15\n",
    "player_pos_ = player_pos[0, time] # [agents, 2]\n",
    "ball_pos_ = ball_pos[0, time] # [2]\n",
    "\n",
    "print(player_pos_.shape, ball_pos_.shape)"
   ]
  },
  {
   "cell_type": "code",
   "execution_count": null,
   "metadata": {},
   "outputs": [],
   "source": [
    "import matplotlib.pyplot as plt\n",
    "%matplotlib inline\n",
    "\n",
    "# Camera settings\n",
    "pitch_height = 72\n",
    "pitch_width = 108\n",
    "camera_info = (0, -20, 20, 30) # x, y, z, fov\n",
    "\n",
    "pitch = Polygon([(0, 0), (0., pitch_height), (pitch_width, pitch_height), (pitch_width, 0)])\n",
    "\n",
    "# Plot pitch and camera\n",
    "x, y = pitch.exterior.xy\n",
    "camera_loc = np.array([pitch_width/2, -20])\n",
    "\n",
    "plt.plot(x, y, c=\"white\", zorder=1)\n",
    "plt.fill_between(x ,y, color=\"green\", alpha=0.4, zorder=0, label=\"Pitch\")\n",
    "plt.scatter(*camera_loc, label=\"Camera\")\n",
    "\n",
    "# Plot camera view\n",
    "camera_vertices = compute_camera_coverage(ball_pos_)\n",
    "shp = patches.Polygon(list(camera_vertices), color=\"b\", alpha=0.6)\n",
    "plt.gca().add_patch(shp)\n",
    "\n",
    "ball_camera_dist = math.sqrt((ball_pos_[0] - camera_loc[0])**2 + (ball_pos_[1] - camera_loc[1])**2)\n",
    "camera_fov = math.radians(camera_info[3]) # in degree\n",
    "camera_ball_angle = math.pi/2 - math.atan(abs(camera_loc[1] - ball_pos_[1]) / abs(camera_loc[0] - ball_pos_[0]))\n",
    "\n",
    "ball_fov_dist_x = (ball_camera_dist * math.tan(camera_fov / 2)) * math.cos(camera_ball_angle)\n",
    "ball_fov_dist_y = (ball_camera_dist * math.tan(camera_fov / 2)) * math.sin(camera_ball_angle)\n",
    "\n",
    "plt.axline((ball_pos_[0] - ball_fov_dist_x, ball_pos_[1] - ball_fov_dist_y), camera_loc, linewidth=2, zorder=2, alpha=0.6)\n",
    "plt.axline((ball_pos_[0] + ball_fov_dist_x, ball_pos_[1] + ball_fov_dist_y), camera_loc, linewidth=2, zorder=2, alpha=0.6)\n",
    "\n",
    "# Plot players and ball\n",
    "c = 0\n",
    "polygon = Polygon(camera_vertices)\n",
    "for i, p in enumerate(range(player_pos_.shape[0])):\n",
    "    p_x, p_y = player_pos_[p, 0].item(), player_pos_[p, 1].item()\n",
    "    \n",
    "    p_color = \"red\" if i < 11 else \"blue\"\n",
    "    if i == 0:\n",
    "        plt.scatter(p_x, p_y, color=p_color, label=\"Red Team\")\n",
    "    elif i == 11:\n",
    "        plt.scatter(p_x, p_y, color=p_color, label=\"Blue Team\")\n",
    "    else:\n",
    "        plt.scatter(p_x, p_y, color=p_color)\n",
    "\n",
    "    point = Point(p_x, p_y)\n",
    "    is_contain = polygon.contains(point)\n",
    "    if is_contain:\n",
    "        c += 1\n",
    "\n",
    "plt.scatter(*ball_pos_, color=\"white\", label=\"Ball\", s=13)\n",
    "\n",
    "plt.axis('equal')\n",
    "plt.legend()\n",
    "plt.show()\n",
    "\n",
    "print(f\"Number of players in the camera view : {c} / {player_pos_.shape[0]}\")\n",
    "print(f\"Missing ratio : {100 - (c / player_pos_.shape[0] * 100)}\")"
   ]
  }
 ],
 "metadata": {
  "kernelspec": {
   "display_name": "choi",
   "language": "python",
   "name": "python3"
  },
  "language_info": {
   "codemirror_mode": {
    "name": "ipython",
    "version": 3
   },
   "file_extension": ".py",
   "mimetype": "text/x-python",
   "name": "python",
   "nbconvert_exporter": "python",
   "pygments_lexer": "ipython3",
   "version": "3.8.18"
  }
 },
 "nbformat": 4,
 "nbformat_minor": 2
}
