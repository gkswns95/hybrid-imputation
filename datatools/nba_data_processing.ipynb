{
 "cells": [
  {
   "cell_type": "code",
   "execution_count": 1,
   "metadata": {},
   "outputs": [
    {
     "data": {
      "text/plain": [
       "'/home/toc/TOC/Choi/MultiAgentTrajectoryImputation-ICLR2024'"
      ]
     },
     "execution_count": 1,
     "metadata": {},
     "output_type": "execute_result"
    }
   ],
   "source": [
    "import os\n",
    "\n",
    "wd = os.path.normpath(os.getcwd() + '/..')\n",
    "os.chdir(wd)\n",
    "os.getcwd()"
   ]
  },
  {
   "cell_type": "code",
   "execution_count": 3,
   "metadata": {},
   "outputs": [
    {
     "name": "stdout",
     "output_type": "stream",
     "text": [
      "The autoreload extension is already loaded. To reload it, use:\n",
      "  %reload_ext autoreload\n"
     ]
    }
   ],
   "source": [
    "%load_ext autoreload\n",
    "%autoreload 2\n",
    "\n",
    "import glob\n",
    "import numpy as np\n",
    "import pandas as pd\n",
    "import torch\n",
    "\n",
    "import matplotlib.pyplot as plt\n",
    "from matplotlib import animation\n",
    "\n",
    "from tqdm import tqdm\n",
    "\n",
    "from nba_helper import NBADataHelper, NBADataAnimator"
   ]
  },
  {
   "attachments": {},
   "cell_type": "markdown",
   "metadata": {},
   "source": [
    "### Processing NBA data(Single match)"
   ]
  },
  {
   "cell_type": "code",
   "execution_count": null,
   "metadata": {},
   "outputs": [],
   "source": [
    "data_path = f\"./data/2016.NBA.Raw.SportVU.Game.Logs\"\n",
    "matches = glob.glob(data_path + \"/*.json\")\n",
    "print(f\"The number of NBA matches : {len(matches)}\")"
   ]
  },
  {
   "cell_type": "code",
   "execution_count": null,
   "metadata": {},
   "outputs": [],
   "source": [
    "match = matches[0]\n",
    "match_id = match.split(\"/\")[-1][:-5]\n",
    "print(f\"Match Id: {match_id}\")"
   ]
  },
  {
   "cell_type": "code",
   "execution_count": null,
   "metadata": {},
   "outputs": [],
   "source": [
    "match_df = pd.read_json(matches[0]) # Select sample match\n",
    "helper = NBADataHelper(match_df)"
   ]
  },
  {
   "cell_type": "code",
   "execution_count": null,
   "metadata": {},
   "outputs": [],
   "source": [
    "smoothing = True\n",
    "remove_outliers = False\n",
    "\n",
    "helper.reconstruct_df()\n",
    "helper.downsample_to_10fps()\n",
    "helper.split_into_episodes()\n",
    "helper.calc_running_features(remove_outliers=remove_outliers, smoothing=smoothing)\n",
    "helper.traces"
   ]
  },
  {
   "cell_type": "code",
   "execution_count": null,
   "metadata": {},
   "outputs": [],
   "source": [
    "# helper.traces.to_csv(f\"data/nba_traces/match{match_id}.csv\", index=False)"
   ]
  },
  {
   "attachments": {},
   "cell_type": "markdown",
   "metadata": {},
   "source": [
    "### Processing NBA data(Entire matches)"
   ]
  },
  {
   "cell_type": "code",
   "execution_count": null,
   "metadata": {},
   "outputs": [],
   "source": [
    "data_path = f\"./data/2016.NBA.Raw.SportVU.Game.Logs\"\n",
    "matches = glob.glob(data_path + \"/*.json\")\n",
    "matches.sort()\n",
    "matches = matches[:100]\n",
    "for match_idx in range(len(matches)):\n",
    "    match = matches[match_idx]\n",
    "    match_id = match.split(\"/\")[-1][:-5]\n",
    "\n",
    "    print(f\"Match Id: {match_id}\")\n",
    "\n",
    "    match_df = pd.read_json(matches[match_idx])\n",
    "    helper = NBADataHelper(match_df)\n",
    "\n",
    "    helper.reconstruct_df()\n",
    "    helper.split_into_episodes()\n",
    "    helper.downsample_to_10fps()\n",
    "    helper.calc_running_features(remove_outliers=False, smoothing=True)\n",
    "    \n",
    "    helper.traces.to_csv(f\"data/nba_traces/match{match_id}.csv\", index=False)"
   ]
  },
  {
   "attachments": {},
   "cell_type": "markdown",
   "metadata": {},
   "source": [
    "### Visualization for NBA Data"
   ]
  },
  {
   "attachments": {},
   "cell_type": "markdown",
   "metadata": {},
   "source": [
    "##### Animating Trajectories"
   ]
  },
  {
   "cell_type": "code",
   "execution_count": null,
   "metadata": {},
   "outputs": [],
   "source": [
    "quarter = 4\n",
    "traces = helper.traces[helper.traces[\"quarter\"] == quarter]\n",
    "# episode = 1\n",
    "# traces = helper.traces[helper.traces[\"episode\"] == episode]"
   ]
  },
  {
   "cell_type": "code",
   "execution_count": null,
   "metadata": {},
   "outputs": [],
   "source": [
    "animator = NBADataAnimator(traces, show_frames=False, show_episodes=True)\n",
    "\n",
    "anim = animator.run()\n",
    "\n",
    "path = f\"animations/match_id_{match_id}_quarter{quarter}_latest.mp4\"\n",
    "writer = animation.FFMpegWriter(fps=10)\n",
    "anim.save(path, writer=writer)"
   ]
  },
  {
   "attachments": {},
   "cell_type": "markdown",
   "metadata": {},
   "source": [
    "##### Animating Feature Plots\n"
   ]
  },
  {
   "cell_type": "code",
   "execution_count": null,
   "metadata": {},
   "outputs": [],
   "source": [
    "anim = NBADataAnimator.plot_speeds_and_accels(helper.traces, helper.player_cols)\n",
    "writer = animation.FFMpegWriter(fps=5)\n",
    "\n",
    "path = f\"animations/feature_plots/latest.mp4\"\n",
    "# path = f\"animations/feature_plots/NBA_match{match_id}_quarter{quarter}.mp4\"\n",
    "    \n",
    "anim.save(path, writer=writer)"
   ]
  },
  {
   "cell_type": "markdown",
   "metadata": {},
   "source": [
    "### Debug "
   ]
  },
  {
   "cell_type": "markdown",
   "metadata": {},
   "source": [
    "##### Test vel_pos"
   ]
  },
  {
   "cell_type": "code",
   "execution_count": null,
   "metadata": {},
   "outputs": [],
   "source": [
    "traces[\"episode\"].unique()"
   ]
  },
  {
   "cell_type": "code",
   "execution_count": null,
   "metadata": {},
   "outputs": [],
   "source": [
    "traces = helper.traces\n",
    "traces"
   ]
  },
  {
   "cell_type": "code",
   "execution_count": null,
   "metadata": {},
   "outputs": [],
   "source": [
    "# feature_types = [\"_x\", \"_y\", \"_vx\", \"_vy\", \"_ax\", \"_ay\"]\n",
    "feature_types = [\"_x\", \"_y\", \"_vx\", \"_vy\", \"_speed\", \"_accel\", \"_ax\", \"_ay\"]\n",
    "data_cols = [f\"player{p}{t}\" for p in range(10) for t in feature_types]\n",
    "len(data_cols)"
   ]
  },
  {
   "cell_type": "code",
   "execution_count": null,
   "metadata": {},
   "outputs": [],
   "source": [
    "traces = traces[[\"episode\"] + data_cols]\n",
    "episode_traces = traces[traces[\"episode\"] == 1]\n",
    "episode_traces"
   ]
  },
  {
   "cell_type": "code",
   "execution_count": null,
   "metadata": {},
   "outputs": [],
   "source": [
    "episode_traces = episode_traces[data_cols].values\n",
    "episode_traces.shape"
   ]
  },
  {
   "cell_type": "code",
   "execution_count": null,
   "metadata": {},
   "outputs": [],
   "source": [
    "pos_x = torch.tensor(episode_traces[:, 0::8, None])\n",
    "pos_y = torch.tensor(episode_traces[:, 1::8, None])\n",
    "pos_xy = torch.cat([pos_x, pos_y], dim=-1)\n",
    "\n",
    "vel_x = torch.tensor(episode_traces[:, 2::8, None])\n",
    "vel_y = torch.tensor(episode_traces[:, 3::8, None])\n",
    "vel_xy = torch.cat([vel_x, vel_y], dim=-1)\n",
    "\n",
    "speed = torch.tensor(episode_traces[:, 4::8])\n",
    "accel = torch.tensor(episode_traces[:, 5::8])\n",
    "\n",
    "print(pos_xy.shape, vel_xy.shape)"
   ]
  },
  {
   "cell_type": "code",
   "execution_count": null,
   "metadata": {},
   "outputs": [],
   "source": [
    "vel_pos = torch.zeros((pos_xy.shape[0], 10, 2))\n",
    "vel_pos[0] = pos_xy[0]\n",
    "vel_pos[1:] += vel_xy[:-1] * 0.1\n",
    "vel_pos.cumsum_(dim=0)"
   ]
  },
  {
   "cell_type": "code",
   "execution_count": null,
   "metadata": {},
   "outputs": [],
   "source": [
    "pos_dist = torch.norm((pos_xy[1:] - vel_pos[1:]), dim=-1)\n",
    "pos_dist_np = np.array(pos_dist)\n",
    "pos_dist_np.shape"
   ]
  },
  {
   "cell_type": "code",
   "execution_count": null,
   "metadata": {},
   "outputs": [],
   "source": [
    "cols = [f\"player{p}\" for p in range(10)]\n",
    "pos_dist_df = pd.DataFrame(pos_dist_np, columns=cols)\n",
    "\n",
    "import random\n",
    "colors = [f'#{random.randint(0, 0xFFFFFF):06x}' for _ in range(10)]\n",
    "\n",
    "pos_dist_df.plot(figsize=(12, 6), color=colors, markersize=1, legend=True)\n",
    "\n",
    "plt.title(\"Positional Distance for 10 Players\")\n",
    "plt.xlabel(\"Time\")\n",
    "plt.ylabel(\"Distance\")\n",
    "\n",
    "plt.tight_layout()\n",
    "plt.show()"
   ]
  },
  {
   "cell_type": "markdown",
   "metadata": {},
   "source": [
    "##### Check anomaly frames in episodes"
   ]
  },
  {
   "cell_type": "code",
   "execution_count": null,
   "metadata": {},
   "outputs": [],
   "source": [
    "traces = helper.traces\n",
    "traces"
   ]
  },
  {
   "cell_type": "code",
   "execution_count": null,
   "metadata": {},
   "outputs": [],
   "source": [
    "episodes = traces[\"episode\"].unique()\n",
    "episodes"
   ]
  },
  {
   "cell_type": "code",
   "execution_count": null,
   "metadata": {},
   "outputs": [],
   "source": [
    "for e in episodes:\n",
    "    episode_traces = traces[traces[\"episode\"] == e]\n",
    "    episode_xy_traces = episode_traces[helper.player_xy_cols]\n",
    "\n",
    "    frame_diff = np.diff(episode_xy_traces, axis=0, prepend=episode_xy_traces[:1])\n",
    "    frame_diff_dist = np.sqrt(frame_diff[:, 0::2] ** 2 + frame_diff[:, 1::2] ** 2)\n",
    "    \n",
    "    if (frame_diff_dist > 3.0).sum() > 0:\n",
    "        print(f\"Anomaly frmaes in episode_{e}\")"
   ]
  }
 ],
 "metadata": {
  "kernelspec": {
   "display_name": "Python 3 (ipykernel)",
   "language": "python",
   "name": "python3"
  },
  "language_info": {
   "codemirror_mode": {
    "name": "ipython",
    "version": 3
   },
   "file_extension": ".py",
   "mimetype": "text/x-python",
   "name": "python",
   "nbconvert_exporter": "python",
   "pygments_lexer": "ipython3",
   "version": "3.8.15"
  },
  "orig_nbformat": 4
 },
 "nbformat": 4,
 "nbformat_minor": 2
}
