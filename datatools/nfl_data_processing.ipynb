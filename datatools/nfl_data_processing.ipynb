{
 "cells": [
  {
   "cell_type": "code",
   "execution_count": null,
   "metadata": {},
   "outputs": [],
   "source": [
    "import os\n",
    "\n",
    "wd = os.path.normpath(os.getcwd() + '/..')\n",
    "os.chdir(wd)\n",
    "os.getcwd()"
   ]
  },
  {
   "cell_type": "code",
   "execution_count": null,
   "metadata": {},
   "outputs": [],
   "source": [
    "%load_ext autoreload\n",
    "%autoreload 2\n",
    "\n",
    "import torch.nn.functional as F\n",
    "import matplotlib.pyplot as plt\n",
    "import os\n",
    "\n",
    "import numpy as np\n",
    "import pandas as pd\n",
    "import torch\n",
    "import matplotlib.pyplot as plt\n",
    "\n",
    "from nfl_helper import NFLDataHelper\n",
    "from tqdm import tqdm"
   ]
  },
  {
   "cell_type": "markdown",
   "metadata": {},
   "source": [
    "### NFL data EDA"
   ]
  },
  {
   "cell_type": "code",
   "execution_count": null,
   "metadata": {},
   "outputs": [],
   "source": [
    "data = pd.read_csv(\"./data/nfl-big-data-bowl-2021/week1.csv\")\n",
    "data"
   ]
  },
  {
   "cell_type": "code",
   "execution_count": null,
   "metadata": {},
   "outputs": [],
   "source": [
    "print(data[\"x\"].max(), data[\"x\"].min())\n",
    "print(data[\"y\"].max(), data[\"y\"].min())"
   ]
  },
  {
   "cell_type": "markdown",
   "metadata": {},
   "source": [
    "### EDA processed data(from NRTSI paper)"
   ]
  },
  {
   "cell_type": "code",
   "execution_count": null,
   "metadata": {},
   "outputs": [],
   "source": [
    "train_data = np.load(\"./data/nfl_traces/nfl_train.npy\")\n",
    "test_data = np.load(\"./data/nfl_traces/nfl_test.npy\")\n",
    "\n",
    "print(train_data.shape, test_data.shape)"
   ]
  },
  {
   "cell_type": "code",
   "execution_count": null,
   "metadata": {},
   "outputs": [],
   "source": [
    "data_ = train_data.reshape(-1, 12)\n",
    "data_.shape"
   ]
  },
  {
   "cell_type": "code",
   "execution_count": null,
   "metadata": {},
   "outputs": [],
   "source": [
    "bs = train_data.shape[0]\n",
    "seq_len = train_data.shape[1]\n",
    "\n",
    "print(f\"Batch size : {bs}\")\n",
    "print(f\"Sequence lenght : {seq_len}\")"
   ]
  },
  {
   "cell_type": "code",
   "execution_count": null,
   "metadata": {},
   "outputs": [],
   "source": [
    "x_data = train_data[..., :6]\n",
    "y_data = train_data[..., 6:]\n",
    "\n",
    "print(f\"x max : {x_data.max()}\")\n",
    "print(f\"x min : {x_data.min()}\")\n",
    "print(f\"y max : {y_data.max()}\")\n",
    "print(f\"y min : {y_data.min()}\")"
   ]
  },
  {
   "cell_type": "markdown",
   "metadata": {},
   "source": [
    "##### (1) Unnormalize the data(from Yards to Meters)\n",
    "* x : [0-120] yards\n",
    "* y : [0-53.3] yards  \n",
    "pitch size(m) : [110, 49]"
   ]
  },
  {
   "cell_type": "code",
   "execution_count": null,
   "metadata": {},
   "outputs": [],
   "source": [
    "train_data[..., :6] *= 110\n",
    "train_data[..., 6:] *= 49"
   ]
  },
  {
   "cell_type": "markdown",
   "metadata": {},
   "source": [
    "##### (2) Rearangement x,y position"
   ]
  },
  {
   "cell_type": "code",
   "execution_count": null,
   "metadata": {},
   "outputs": [],
   "source": [
    "x_data_ = train_data[..., :6, None]\n",
    "y_data_ = train_data[..., 6:, None]\n",
    "\n",
    "xy_data = np.concatenate([x_data_, y_data_], axis=-1)\n",
    "xy_data.shape"
   ]
  },
  {
   "cell_type": "code",
   "execution_count": null,
   "metadata": {},
   "outputs": [],
   "source": [
    "data = xy_data.reshape(bs, seq_len, -1)\n",
    "data.shape"
   ]
  },
  {
   "cell_type": "markdown",
   "metadata": {},
   "source": [
    "##### (3) Plotting Trajectories"
   ]
  },
  {
   "cell_type": "code",
   "execution_count": null,
   "metadata": {},
   "outputs": [],
   "source": [
    "seq_data = data[2]\n",
    "seq_data.shape"
   ]
  },
  {
   "cell_type": "code",
   "execution_count": null,
   "metadata": {},
   "outputs": [],
   "source": [
    "def plot_nfl(target_data):\n",
    "    fig = plt.figure(0)\n",
    "    ax = fig.add_subplot(111)\n",
    "    \n",
    "    for k in range(6):\n",
    "        ax.scatter(target_data[:,2*k], target_data[:,2*k+1], color=\"b\")\n",
    "        ax.plot(target_data[:,2*k], target_data[:,2*k+1], color=\"m\")\n",
    "    plt.show()\n",
    "plot_nfl(seq_data)"
   ]
  },
  {
   "cell_type": "markdown",
   "metadata": {},
   "source": [
    "##### (3) Plotting L2 distance between adjacent time steps."
   ]
  },
  {
   "cell_type": "code",
   "execution_count": null,
   "metadata": {},
   "outputs": [],
   "source": [
    "frame_diff = np.linalg.norm(xy_data[1, 1:] - xy_data[1, :-1], axis=-1)\n",
    "\n",
    "cols = [f\"player{p}\" for p in range(6)]\n",
    "frame_diff_df = pd.DataFrame(frame_diff, columns=cols)\n",
    "\n",
    "import random\n",
    "colors = [f'#{random.randint(0, 0xFFFFFF):06x}' for _ in range(6)]\n",
    "\n",
    "frame_diff_df.plot(figsize=(12, 6), color=colors, markersize=1, legend=True)\n",
    "\n",
    "plt.title(\"Positional Distance for 6 Players\")\n",
    "plt.xlabel(\"Time\")\n",
    "plt.ylabel(\"Distance\")\n",
    "\n",
    "plt.tight_layout()\n",
    "plt.show()"
   ]
  },
  {
   "cell_type": "markdown",
   "metadata": {},
   "source": [
    "### Processing NFL data"
   ]
  },
  {
   "cell_type": "code",
   "execution_count": null,
   "metadata": {},
   "outputs": [],
   "source": [
    "data_path = \"./data/nfl_traces/nfl_test.npy\"\n",
    "helper = NFLDataHelper(data_path=data_path)"
   ]
  },
  {
   "cell_type": "code",
   "execution_count": null,
   "metadata": {},
   "outputs": [],
   "source": [
    "helper.reconstruct_df()\n",
    "helper.calc_running_features(smoothing=False, remove_outliers=False)\n",
    "helper.traces"
   ]
  },
  {
   "cell_type": "code",
   "execution_count": null,
   "metadata": {},
   "outputs": [],
   "source": [
    "helper.traces.to_csv(f\"data/nfl_traces/nfl_test.csv\", index=False)"
   ]
  },
  {
   "cell_type": "markdown",
   "metadata": {},
   "source": [
    "### Debug"
   ]
  },
  {
   "cell_type": "code",
   "execution_count": null,
   "metadata": {},
   "outputs": [],
   "source": [
    "traces = helper.traces\n",
    "traces"
   ]
  },
  {
   "cell_type": "code",
   "execution_count": null,
   "metadata": {},
   "outputs": [],
   "source": [
    "feature_types = [\"_x\", \"_y\", \"_vx\", \"_vy\", \"_speed\", \"_accel\", \"_ax\", \"_ay\"]\n",
    "data_cols = [f\"player{p}{t}\" for p in range(6) for t in feature_types]\n",
    "len(data_cols)"
   ]
  },
  {
   "cell_type": "code",
   "execution_count": null,
   "metadata": {},
   "outputs": [],
   "source": [
    "traces = traces[[\"episode\"] + data_cols]\n",
    "episode_traces = traces[traces[\"episode\"] == 1]"
   ]
  },
  {
   "cell_type": "code",
   "execution_count": null,
   "metadata": {},
   "outputs": [],
   "source": [
    "episode_traces = episode_traces[data_cols].values\n",
    "episode_traces.shape"
   ]
  },
  {
   "cell_type": "code",
   "execution_count": null,
   "metadata": {},
   "outputs": [],
   "source": [
    "pos_x = torch.tensor(episode_traces[:, 0::8, None])\n",
    "pos_y = torch.tensor(episode_traces[:, 1::8, None])\n",
    "pos_xy = torch.cat([pos_x, pos_y], dim=-1)\n",
    "\n",
    "vel_x = torch.tensor(episode_traces[:, 2::8, None])\n",
    "vel_y = torch.tensor(episode_traces[:, 3::8, None])\n",
    "vel_xy = torch.cat([vel_x, vel_y], dim=-1)\n",
    "\n",
    "speed = torch.tensor(episode_traces[:, 4::8])\n",
    "accel = torch.tensor(episode_traces[:, 5::8])\n",
    "\n",
    "print(pos_xy.shape, vel_xy.shape)"
   ]
  },
  {
   "cell_type": "code",
   "execution_count": null,
   "metadata": {},
   "outputs": [],
   "source": [
    "vel_pos = torch.zeros((pos_xy.shape[0], 6, 2))\n",
    "vel_pos[0] = pos_xy[0]\n",
    "vel_pos[1:] += vel_xy[:-1] * 0.1\n",
    "vel_pos.cumsum_(dim=0)"
   ]
  },
  {
   "cell_type": "code",
   "execution_count": null,
   "metadata": {},
   "outputs": [],
   "source": [
    "pos_dist = torch.norm((pos_xy[1:] - vel_pos[1:]), dim=-1)\n",
    "pos_dist_np = np.array(pos_dist)\n",
    "pos_dist_np.shape"
   ]
  },
  {
   "cell_type": "code",
   "execution_count": null,
   "metadata": {},
   "outputs": [],
   "source": [
    "cols = [f\"player{p}\" for p in range(6)]\n",
    "pos_dist_df = pd.DataFrame(pos_dist_np, columns=cols)\n",
    "\n",
    "import random\n",
    "colors = [f'#{random.randint(0, 0xFFFFFF):06x}' for _ in range(6)]\n",
    "\n",
    "pos_dist_df.plot(figsize=(12, 6), color=colors, markersize=1, legend=True)\n",
    "\n",
    "plt.title(\"Positional Distance for 10 Players\")\n",
    "plt.xlabel(\"Time\")\n",
    "plt.ylabel(\"Distance\")\n",
    "\n",
    "plt.tight_layout()\n",
    "plt.show()"
   ]
  }
 ],
 "metadata": {
  "kernelspec": {
   "display_name": "balltrack",
   "language": "python",
   "name": "python3"
  },
  "language_info": {
   "codemirror_mode": {
    "name": "ipython",
    "version": 3
   },
   "file_extension": ".py",
   "mimetype": "text/x-python",
   "name": "python",
   "nbconvert_exporter": "python",
   "pygments_lexer": "ipython3",
   "version": "3.8.18"
  },
  "orig_nbformat": 4
 },
 "nbformat": 4,
 "nbformat_minor": 2
}
