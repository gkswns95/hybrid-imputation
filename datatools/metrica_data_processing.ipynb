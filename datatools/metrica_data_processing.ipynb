{
 "cells": [
  {
   "attachments": {},
   "cell_type": "markdown",
   "metadata": {},
   "source": [
    "## Metrica Data Processing"
   ]
  },
  {
   "cell_type": "code",
   "execution_count": null,
   "metadata": {},
   "outputs": [],
   "source": [
    "import os\n",
    "\n",
    "wd = os.path.normpath(os.getcwd() + '/..')\n",
    "os.chdir(wd)\n",
    "os.getcwd()"
   ]
  },
  {
   "cell_type": "code",
   "execution_count": null,
   "metadata": {},
   "outputs": [],
   "source": [
    "%load_ext autoreload\n",
    "%autoreload 2\n",
    "\n",
    "import json\n",
    "import xml.etree.ElementTree as ET\n",
    "\n",
    "import numpy as np\n",
    "import pandas as pd\n",
    "import torch\n",
    "from matplotlib import animation\n",
    "from tqdm import tqdm\n",
    "\n",
    "from dataset import SoccerDataset\n",
    "from datatools.metrica_helper import MetricaHelper\n",
    "from datatools.trace_animator import TraceAnimator\n",
    "from datatools.trace_helper import TraceHelper\n",
    "from models import load_model"
   ]
  },
  {
   "attachments": {},
   "cell_type": "markdown",
   "metadata": {},
   "source": [
    "### Parsing Metrica Sample Game 3 Data"
   ]
  },
  {
   "cell_type": "code",
   "execution_count": null,
   "metadata": {},
   "outputs": [],
   "source": [
    "tree = ET.parse(\"data/metrica_traces/Sample_Game_3/Sample_Game_3_metadata.xml\")\n",
    "root = tree.getroot()\n",
    "root[0].tag, root[1].tag"
   ]
  },
  {
   "cell_type": "code",
   "execution_count": null,
   "metadata": {},
   "outputs": [],
   "source": [
    "player_records = []\n",
    "\n",
    "for player in root.iter(\"Player\"):\n",
    "    team_code = player.get(\"teamId\")[-1]\n",
    "    squad_num = int(player.findtext(\"ShirtNumber\"))\n",
    "    player_code = f\"{team_code}{squad_num:02d}\"\n",
    "\n",
    "    for param in player.iter(\"ProviderParameter\"):\n",
    "        if param.findtext(\"Name\") == \"position_type\":\n",
    "            position = param.findtext(\"Value\")\n",
    "\n",
    "    player_records.append([squad_num, player_code, position])\n",
    "\n",
    "player_records = pd.DataFrame(player_records, columns=[\"squad_num\", \"code\", \"position\"]).set_index(\"squad_num\")\n",
    "player_records"
   ]
  },
  {
   "cell_type": "code",
   "execution_count": null,
   "metadata": {},
   "outputs": [],
   "source": [
    "phase_records = []\n",
    "\n",
    "for i, data_spec in enumerate(root[1]):\n",
    "    start_frame = int(data_spec.get(\"startFrame\"))\n",
    "    end_frame = int(data_spec.get(\"endFrame\"))\n",
    "    session = 1 if i == 0 else 2\n",
    "\n",
    "    player_codes = []\n",
    "    gk_codes = []\n",
    "\n",
    "    for player_xy in data_spec[1]:\n",
    "        squad_num = int(player_xy[0].get(\"playerChannelId\")[6:-2])\n",
    "        player_code = player_records.at[squad_num, \"code\"]\n",
    "        player_codes.append(player_code)\n",
    "\n",
    "        position = player_records.at[squad_num, \"position\"]\n",
    "        if position == \"Goalkeeper\":\n",
    "            gk_codes.append(player_code)\n",
    "    \n",
    "    player_codes = player_codes[10:11] + player_codes[:10] + player_codes[-1:] + player_codes[11:-1]\n",
    "    phase_records.append([i + 1, session, start_frame, end_frame, player_codes, gk_codes])\n",
    "\n",
    "header = [\"phase\", \"session\", \"start_frame\", \"end_frame\", \"player_codes\", \"gk_codes\"]\n",
    "phase_records = pd.DataFrame(phase_records, columns=header).set_index(\"phase\")\n",
    "phase_records"
   ]
  },
  {
   "cell_type": "code",
   "execution_count": null,
   "metadata": {},
   "outputs": [],
   "source": [
    "time_cols = [\"frame\", \"session\", \"time\"]\n",
    "xy_cols = np.array([[f\"{p}_x\", f\"{p}_y\"] for p in player_records[\"code\"].tolist() + [\"ball\"]]).flatten().tolist()\n",
    "\n",
    "traces_txt = pd.read_csv(\"data/metrica_traces/Sample_Game_3/Sample_Game_3_tracking.txt\", sep=\";\", header=None)\n",
    "traces = pd.DataFrame(index=traces_txt.index, columns=time_cols + xy_cols)\n",
    "\n",
    "for phase in tqdm(phase_records.index):\n",
    "    i0 = phase_records.at[phase, \"start_frame\"] - 1\n",
    "    i1 = phase_records.at[phase, \"end_frame\"] - 1\n",
    "    player_codes = phase_records.at[phase, \"player_codes\"]\n",
    "\n",
    "    phase_traces = traces_txt.loc[i0:i1]\n",
    "    phase_traces.columns = player_codes\n",
    "    leftmost = phase_traces[player_codes[0]].str.split(\":\", expand=True)\n",
    "    leftmost.columns = [\"frame\", player_codes[0]]\n",
    "    rightmost = phase_traces[player_codes[-1]].str.split(\":\", expand=True)\n",
    "    rightmost.columns = [player_codes[-1], \"ball\"]\n",
    "    phase_traces = pd.concat([leftmost, phase_traces[player_codes[1:-1]], rightmost], axis=1)\n",
    "\n",
    "    traces.loc[phase_traces.index, \"frame\"] = phase_traces[\"frame\"].astype(int)\n",
    "    traces.loc[phase_traces.index, \"session\"] = phase_records.at[phase, \"session\"]\n",
    "\n",
    "    for p in phase_traces.columns[1:]:\n",
    "        xy = phase_traces[p].str.split(\",\", expand=True).astype(float).values\n",
    "        traces.loc[phase_traces.index, [f\"{p}_x\", f\"{p}_y\"]] = xy\n",
    "\n",
    "traces[\"time\"] = (traces[\"frame\"] * 0.04).astype(float).round(2)\n",
    "traces"
   ]
  },
  {
   "cell_type": "code",
   "execution_count": null,
   "metadata": {},
   "outputs": [],
   "source": [
    "traces.to_csv(f\"data/metrica_traces/Sample_Game_3/Sample_Game_3_RawTrackingData.csv\", index=False)"
   ]
  },
  {
   "attachments": {},
   "cell_type": "markdown",
   "metadata": {},
   "source": [
    "### Processing Metrica Data"
   ]
  },
  {
   "cell_type": "code",
   "execution_count": null,
   "metadata": {},
   "outputs": [],
   "source": [
    "match_id = 3\n",
    "\n",
    "event_file = f\"data/metrica_traces/Sample_Game_{match_id}/Sample_Game_{match_id}_RawEventsData.csv\"\n",
    "events = pd.read_csv(event_file)\n",
    "\n",
    "if match_id <= 2:\n",
    "    team1_file = f\"data/metrica_traces/Sample_Game_{match_id}/Sample_Game_{match_id}_RawTrackingData_Home_Team.csv\"\n",
    "    team2_file = f\"data/metrica_traces/Sample_Game_{match_id}/Sample_Game_{match_id}_RawTrackingData_Away_Team.csv\"\n",
    "    team1_traces = pd.read_csv(team1_file, header=[0, 1, 2])\n",
    "    team2_traces = pd.read_csv(team2_file, header=[0, 1, 2])\n",
    "    helper = MetricaHelper(team1_traces, team2_traces, events=events)\n",
    "else:  # match_id == 3\n",
    "    trace_file = f\"data/metrica_traces/Sample_Game_{match_id}/Sample_Game_{match_id}_RawTrackingData.csv\"\n",
    "    traces = pd.read_csv(trace_file, index_col=0)\n",
    "    helper = MetricaHelper(traces_from_txt=traces, events=events)\n",
    "\n",
    "helper.traces"
   ]
  },
  {
   "cell_type": "code",
   "execution_count": null,
   "metadata": {},
   "outputs": [],
   "source": [
    "helper.generate_phase_records()\n",
    "helper.phase_records"
   ]
  },
  {
   "cell_type": "code",
   "execution_count": null,
   "metadata": {},
   "outputs": [],
   "source": [
    "helper.downsample_to_10fps()\n",
    "helper.split_into_episodes()\n",
    "helper.calc_running_features(remove_outliers=True, smoothing=True)\n",
    "helper.find_gt_player_poss()\n",
    "helper.find_gt_team_poss()\n",
    "if match_id == 3:\n",
    "    helper.correct_event_player_ids()\n",
    "\n",
    "helper.traces"
   ]
  },
  {
   "cell_type": "code",
   "execution_count": null,
   "metadata": {},
   "outputs": [],
   "source": [
    "helper.traces.to_csv(f\"data/metrica_traces/match{match_id}_.csv\", index=False)\n",
    "helper.events.to_csv(f\"data/metrica_events/match{match_id}_.csv\", index=False)"
   ]
  },
  {
   "attachments": {},
   "cell_type": "markdown",
   "metadata": {},
   "source": [
    "### Visualization for Metrica Data"
   ]
  },
  {
   "attachments": {},
   "cell_type": "markdown",
   "metadata": {},
   "source": [
    "##### Animating Trajectories"
   ]
  },
  {
   "cell_type": "code",
   "execution_count": null,
   "metadata": {},
   "outputs": [],
   "source": [
    "traces = helper.traces\n",
    "traces"
   ]
  },
  {
   "cell_type": "code",
   "execution_count": null,
   "metadata": {},
   "outputs": [],
   "source": [
    "i0 = 0\n",
    "i1 = 2000\n",
    "# traces = helper.traces[i0:i1]\n",
    "\n",
    "animator = TraceAnimator(\n",
    "    trace_dict={\"main\": traces},\n",
    "    show_episodes=True,\n",
    "    show_events=True,\n",
    "    annot_cols=[\"team_poss\", \"player_poss\", \"event_type\"]\n",
    ")\n",
    "anim = animator.run()\n",
    "\n",
    "t0 = traces[\"time\"].iloc[0]\n",
    "t1 = traces[\"time\"].iloc[-1]\n",
    "t0_str = f\"{int(t0 // 60):02d}.{int(t0 % 60):02d}\"\n",
    "t1_str = f\"{int(t1 // 60):02d}.{int(t1 % 60):02d}\"\n",
    "\n",
    "path = f\"animations/metrica_match{match_id}_test.mp4\"\n",
    "# path = f\"animations/metrica_match{match_id}_{t0_str}-{t1_str}.mp4\"\n",
    "writer = animation.FFMpegWriter(fps=10)\n",
    "anim.save(path, writer=writer)"
   ]
  },
  {
   "attachments": {},
   "cell_type": "markdown",
   "metadata": {},
   "source": [
    "##### Animating Feature Plots"
   ]
  },
  {
   "cell_type": "code",
   "execution_count": null,
   "metadata": {},
   "outputs": [],
   "source": [
    "session = 1\n",
    "traces = helper.traces[helper.traces[\"session\"] == session]\n",
    "anim = TraceHelper.plot_speeds_and_accels(traces, helper.team1_players)\n",
    "writer = animation.FFMpegWriter(fps=5)\n",
    "\n",
    "smoothing = True\n",
    "if smoothing:\n",
    "    path = f\"animations/feature_plots/metrica_match{match_id}_s{session}_smooth.mp4\"\n",
    "else:\n",
    "    path = f\"animations/feature_plots/metrica_match{match_id}_s{session}_noisy.mp4\"\n",
    "    \n",
    "anim.save(path, writer=writer)"
   ]
  },
  {
   "attachments": {},
   "cell_type": "markdown",
   "metadata": {},
   "source": [
    "### Validation-Test Split of Metrica Sample Game 3 Data"
   ]
  },
  {
   "cell_type": "code",
   "execution_count": null,
   "metadata": {},
   "outputs": [],
   "source": [
    "traces = pd.read_csv(\"data/metrica_traces/match3_.csv\", header=0)\n",
    "events = pd.read_csv(\"data/metrica_events/match3_.csv\", header=0)\n",
    "events"
   ]
  },
  {
   "cell_type": "code",
   "execution_count": null,
   "metadata": {},
   "outputs": [],
   "source": [
    "traces_valid = traces[traces[\"session\"] == 1]\n",
    "traces_test = traces[traces[\"session\"] == 2]\n",
    "traces_valid.to_csv(\"data/metrica_traces/match3_valid_.csv\", index=False)\n",
    "traces_test.to_csv(\"data/metrica_traces/match3_test_.csv\", index=False)"
   ]
  },
  {
   "cell_type": "code",
   "execution_count": null,
   "metadata": {},
   "outputs": [],
   "source": [
    "events_valid = events[events[\"session\"] == 1]\n",
    "events_test = events[events[\"session\"] == 2]\n",
    "events_valid = events_valid.to_csv(\"data/metrica_events/match3_valid_.csv\", index=False)\n",
    "events_test = events_test.to_csv(\"data/metrica_events/match3_test_.csv\", index=False)"
   ]
  },
  {
   "attachments": {},
   "cell_type": "markdown",
   "metadata": {},
   "source": [
    "### Testing SoccerDataset-GK Based on Metrica Data"
   ]
  },
  {
   "cell_type": "code",
   "execution_count": null,
   "metadata": {},
   "outputs": [],
   "source": [
    "dir = \"data/metrica_traces\"\n",
    "train_files = [\"match1.csv\", \"match2.csv\", \"match3_valid.csv\"]\n",
    "test_files = [\"match3_test.csv\"]\n",
    "train_paths = [f\"{dir}/{f}\" for f in train_files]\n",
    "test_paths = [f\"{dir}/{f}\" for f in test_files]\n",
    "train_paths, test_paths"
   ]
  },
  {
   "cell_type": "code",
   "execution_count": null,
   "metadata": {},
   "outputs": [],
   "source": [
    "dataset = SoccerDataset(test_paths, target_type=\"gk\", train=False, flip_pitch=True)\n",
    "len(dataset)"
   ]
  },
  {
   "cell_type": "code",
   "execution_count": null,
   "metadata": {},
   "outputs": [],
   "source": [
    "idx = 3\n",
    "input_tensor, target_tensor = dataset[idx]\n",
    "input_tensor.shape, target_tensor.shape"
   ]
  },
  {
   "cell_type": "code",
   "execution_count": null,
   "metadata": {},
   "outputs": [],
   "source": [
    "team1_cols = [f\"A{i:02d}{s}\" for i in np.arange(2, 12) for s in dataset.feature_types]\n",
    "team2_cols = [f\"B{i:02d}{s}\" for i in np.arange(2, 12) for s in dataset.feature_types]\n",
    "cols = team1_cols + team2_cols + [\"A01_x\", \"A01_y\", \"B01_x\", \"B01_y\"]\n",
    "\n",
    "traces = pd.DataFrame(np.concatenate([input_tensor, target_tensor], axis=1), columns=cols)\n",
    "traces[\"time\"] = (np.arange(dataset.ws) + 1) * 0.1\n",
    "traces.head()"
   ]
  },
  {
   "cell_type": "code",
   "execution_count": null,
   "metadata": {},
   "outputs": [],
   "source": [
    "anim = TraceHelper.plot_scene(traces)\n",
    "writer = animation.FFMpegWriter(fps=10)\n",
    "path = f\"animations/sample_metrica_gk_{idx}.mp4\"\n",
    "anim.save(path, writer=writer)"
   ]
  },
  {
   "attachments": {},
   "cell_type": "markdown",
   "metadata": {},
   "source": [
    "### Testing SoccerDataset-GK-Macro Based on Metrica Data"
   ]
  },
  {
   "cell_type": "code",
   "execution_count": null,
   "metadata": {},
   "outputs": [],
   "source": [
    "dir = \"data/metrica_traces\"\n",
    "train_files = [\"match1.csv\", \"match2.csv\", \"match3_train.csv\"]\n",
    "test_files = [\"match3_test.csv\"]\n",
    "train_paths = [f\"{dir}/{f}\" for f in train_files]\n",
    "test_paths = [f\"{dir}/{f}\" for f in test_files]\n",
    "train_paths, test_paths"
   ]
  },
  {
   "cell_type": "code",
   "execution_count": null,
   "metadata": {},
   "outputs": [],
   "source": [
    "dataset = SoccerDataset(test_paths, target_type=\"gk\", macro_type=\"team_poss\", train=False, flip_pitch=True)\n",
    "dataset.input_data.shape, dataset.macro_data.shape, dataset.target_data.shape"
   ]
  },
  {
   "cell_type": "code",
   "execution_count": null,
   "metadata": {},
   "outputs": [],
   "source": [
    "idx = 3\n",
    "input_tensor, macro_tensor, target_tensor = dataset[idx]\n",
    "input_tensor.shape, macro_tensor.shape, target_tensor.shape"
   ]
  }
 ],
 "metadata": {
  "kernelspec": {
   "display_name": "balltrack",
   "language": "python",
   "name": "python3"
  },
  "language_info": {
   "codemirror_mode": {
    "name": "ipython",
    "version": 3
   },
   "file_extension": ".py",
   "mimetype": "text/x-python",
   "name": "python",
   "nbconvert_exporter": "python",
   "pygments_lexer": "ipython3",
   "version": "3.8.18"
  },
  "orig_nbformat": 4,
  "vscode": {
   "interpreter": {
    "hash": "c44ecce01b6920a996c2e45a7791c773f725b79a727cce05b077a0ad48ece758"
   }
  }
 },
 "nbformat": 4,
 "nbformat_minor": 2
}
