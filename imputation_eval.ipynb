{
 "cells": [
  {
   "cell_type": "code",
   "execution_count": 1,
   "metadata": {},
   "outputs": [],
   "source": [
    "%load_ext autoreload\n",
    "%autoreload 2\n",
    "\n",
    "import os, json\n",
    "\n",
    "import torch\n",
    "import numpy as np\n",
    "import pandas as pd\n",
    "\n",
    "import matplotlib.pyplot as plt\n",
    "%matplotlib inline\n",
    "\n",
    "from matplotlib import animation\n",
    "from datatools.trace_animator import TraceAnimator\n",
    "from datatools.trace_helper import TraceHelper\n",
    "from datatools.visualize_helper import VisualizeHelper\n",
    "from datatools.nba_helper import NBADataHelper, NBADataAnimator\n",
    "from datatools.nfl_helper import NFLDataHelper\n",
    "\n",
    "from models import load_model\n",
    "from models.utils import print_helper, reshape_tensor, get_dataset_config, normalize_tensor\n",
    "\n",
    "from models.baselines.graphimputer.graphimputer import BidirectionalGraphImputer"
   ]
  },
  {
   "attachments": {},
   "cell_type": "markdown",
   "metadata": {},
   "source": [
    "## Model evaluating on test data"
   ]
  },
  {
   "attachments": {},
   "cell_type": "markdown",
   "metadata": {},
   "source": [
    "### Load model"
   ]
  },
  {
   "cell_type": "code",
   "execution_count": 2,
   "metadata": {},
   "outputs": [],
   "source": [
    "device = \"cuda:0\"\n",
    "trial = 3003\n",
    "save_path = f\"saved/{trial:03d}\"\n",
    "\n",
    "with open(f\"{save_path}/params.json\", \"r\") as f:\n",
    "    params = json.load(f)\n",
    "\n",
    "if params[\"model\"] == \"nrtsi\":\n",
    "    model = load_model(params[\"model\"], params).to(device)\n",
    "\n",
    "    gap_models_dict = dict()\n",
    "\n",
    "    gap_models_dict[1] = f\"{save_path}/model/nrtsi_state_dict_best_gap_1.pt\"\n",
    "    gap_models_dict[2] = f\"{save_path}/model/nrtsi_state_dict_best_gap_2.pt\"\n",
    "    gap_models_dict[4] = f\"{save_path}/model/nrtsi_state_dict_best_gap_4.pt\"\n",
    "    gap_models_dict[8] = f\"{save_path}/model/nrtsi_state_dict_best_gap_8.pt\"\n",
    "    gap_models_dict[16] = f\"{save_path}/model/nrtsi_state_dict_best_gap_16.pt\"\n",
    "\n",
    "    for key in gap_models_dict:\n",
    "        gap_models_dict[key] = torch.load(gap_models_dict[key], map_location=lambda storage, _: storage)\n",
    "else:\n",
    "    state_dict = torch.load(\n",
    "        f\"{save_path}/model/{params['model']}_state_dict_best.pt\",\n",
    "        map_location=lambda storage, _: storage,\n",
    "    )\n",
    "\n",
    "    model = load_model(params[\"model\"], params).to(device)\n",
    "    model.load_state_dict(state_dict)"
   ]
  },
  {
   "cell_type": "code",
   "execution_count": 3,
   "metadata": {},
   "outputs": [
    {
     "name": "stdout",
     "output_type": "stream",
     "text": [
      "-Model name : ours\n",
      "-Dataset : basketball\n",
      "-Compute statistic_metrics : True\n"
     ]
    }
   ],
   "source": [
    "model_name = params[\"model\"]\n",
    "dataset = params[\"dataset\"]\n",
    "\n",
    "if model_name == \"ours\":\n",
    "    physics_loss = params[\"physics_loss\"]\n",
    "    train_hybrid = params[\"train_hybrid\"]\n",
    "\n",
    "statistic_metrics = True\n",
    "\n",
    "print(f\"-Model name : {model_name}\")\n",
    "print(f\"-Dataset : {dataset}\")\n",
    "print(f\"-Compute statistic_metrics : {statistic_metrics}\")"
   ]
  },
  {
   "cell_type": "code",
   "execution_count": 4,
   "metadata": {},
   "outputs": [],
   "source": [
    "model_keys = [\"pred\"]\n",
    "ret_keys = [\"n_frames\", \"n_missings\"]\n",
    "if model.params[\"model\"] == \"ours\":\n",
    "    if model.params[\"physics_loss\"]:\n",
    "        model_keys += [\"physics_f\", \"physics_b\"]\n",
    "    if model.params[\"train_hybrid\"]:\n",
    "        model_keys += [\"static_hybrid\", \"static_hybrid2\", \"train_hybrid\"]\n",
    "if statistic_metrics:\n",
    "    model_keys += [\"linear\", \"knn\", \"forward\"]\n",
    "\n",
    "    metrics = [\"speed\", \"change_of_step_size\", \"path_length\"]\n",
    "    ret_keys += [f\"{m}_{metric}\" for m in model_keys for metric in metrics]\n",
    "\n",
    "ret_keys += [f\"{m}_dist\" for m in model_keys]\n",
    "total_ret = {key: 0 for key in ret_keys}"
   ]
  },
  {
   "cell_type": "code",
   "execution_count": 5,
   "metadata": {},
   "outputs": [
    {
     "name": "stdout",
     "output_type": "stream",
     "text": [
      "Test data paths : ['data/nba_traces/match0021500095.csv', 'data/nba_traces/match0021500096.csv', 'data/nba_traces/match0021500097.csv', 'data/nba_traces/match0021500098.csv', 'data/nba_traces/match0021500099.csv', 'data/nba_traces/match0021500101.csv', 'data/nba_traces/match0021500102.csv', 'data/nba_traces/match0021500103.csv', 'data/nba_traces/match0021500104.csv', 'data/nba_traces/match0021500105.csv']\n"
     ]
    }
   ],
   "source": [
    "metrica_files = [\"match1.csv\", \"match2.csv\", \"match3_valid.csv\", \"match3_test.csv\"]\n",
    "metrica_paths = [f\"data/metrica_traces/{f}\" for f in metrica_files]\n",
    "\n",
    "nba_files = os.listdir(\"data/nba_traces\")\n",
    "nba_paths = [f\"data/nba_traces/{f}\" for f in nba_files]\n",
    "nba_paths.sort()\n",
    "\n",
    "nfl_files = os.listdir(\"data/nfl_traces\")\n",
    "nfl_paths = [f\"data/nfl_traces/{f}\" for f in nfl_files if f.endswith(\".csv\")]\n",
    "nfl_paths.sort()\n",
    "\n",
    "if dataset == \"soccer\":\n",
    "    trace_helper = TraceHelper\n",
    "    test_data_paths = metrica_paths[3:4]\n",
    "elif dataset == \"basketball\":\n",
    "    trace_helper = NBADataHelper\n",
    "    test_data_paths = nba_paths[90:]\n",
    "else: # e.g. \"American football\"\n",
    "    trace_helper = NFLDataHelper\n",
    "    test_data_paths = nfl_paths[0:1]\n",
    "\n",
    "print(f\"Test data paths : {test_data_paths}\")"
   ]
  },
  {
   "attachments": {},
   "cell_type": "markdown",
   "metadata": {},
   "source": [
    "### Run model"
   ]
  },
  {
   "cell_type": "code",
   "execution_count": 6,
   "metadata": {},
   "outputs": [
    {
     "name": "stdout",
     "output_type": "stream",
     "text": [
      "\n",
      "data/nba_traces/match0021500095.csv :\n"
     ]
    },
    {
     "name": "stderr",
     "output_type": "stream",
     "text": [
      "Episode: 100%|██████████| 65/65 [00:06<00:00,  9.31it/s]\n"
     ]
    },
    {
     "name": "stdout",
     "output_type": "stream",
     "text": [
      "\n",
      "\n",
      "data/nba_traces/match0021500096.csv :\n"
     ]
    },
    {
     "name": "stderr",
     "output_type": "stream",
     "text": [
      "Episode: 100%|██████████| 72/72 [00:06<00:00, 10.66it/s]\n"
     ]
    },
    {
     "name": "stdout",
     "output_type": "stream",
     "text": [
      "\n",
      "\n",
      "data/nba_traces/match0021500097.csv :\n"
     ]
    },
    {
     "name": "stderr",
     "output_type": "stream",
     "text": [
      "Episode: 100%|██████████| 76/76 [00:06<00:00, 11.90it/s]\n"
     ]
    },
    {
     "name": "stdout",
     "output_type": "stream",
     "text": [
      "\n",
      "\n",
      "data/nba_traces/match0021500098.csv :\n"
     ]
    },
    {
     "name": "stderr",
     "output_type": "stream",
     "text": [
      "Episode: 100%|██████████| 64/64 [00:06<00:00, 10.44it/s]\n"
     ]
    },
    {
     "name": "stdout",
     "output_type": "stream",
     "text": [
      "\n",
      "\n",
      "data/nba_traces/match0021500099.csv :\n"
     ]
    },
    {
     "name": "stderr",
     "output_type": "stream",
     "text": [
      "Episode: 100%|██████████| 65/65 [00:06<00:00, 10.18it/s]\n"
     ]
    },
    {
     "name": "stdout",
     "output_type": "stream",
     "text": [
      "\n",
      "\n",
      "data/nba_traces/match0021500101.csv :\n"
     ]
    },
    {
     "name": "stderr",
     "output_type": "stream",
     "text": [
      "Episode: 100%|██████████| 72/72 [00:06<00:00, 10.70it/s]\n"
     ]
    },
    {
     "name": "stdout",
     "output_type": "stream",
     "text": [
      "\n",
      "\n",
      "data/nba_traces/match0021500102.csv :\n"
     ]
    },
    {
     "name": "stderr",
     "output_type": "stream",
     "text": [
      "Episode: 100%|██████████| 71/71 [00:06<00:00, 11.04it/s]\n"
     ]
    },
    {
     "name": "stdout",
     "output_type": "stream",
     "text": [
      "\n",
      "\n",
      "data/nba_traces/match0021500103.csv :\n"
     ]
    },
    {
     "name": "stderr",
     "output_type": "stream",
     "text": [
      "Episode: 100%|██████████| 64/64 [00:06<00:00,  9.69it/s]\n"
     ]
    },
    {
     "name": "stdout",
     "output_type": "stream",
     "text": [
      "\n",
      "\n",
      "data/nba_traces/match0021500104.csv :\n"
     ]
    },
    {
     "name": "stderr",
     "output_type": "stream",
     "text": [
      "Episode: 100%|██████████| 72/72 [00:06<00:00, 11.38it/s]\n"
     ]
    },
    {
     "name": "stdout",
     "output_type": "stream",
     "text": [
      "\n",
      "\n",
      "data/nba_traces/match0021500105.csv :\n"
     ]
    },
    {
     "name": "stderr",
     "output_type": "stream",
     "text": [
      "Episode: 100%|██████████| 73/73 [00:06<00:00, 11.40it/s]\n"
     ]
    },
    {
     "name": "stdout",
     "output_type": "stream",
     "text": [
      "\n",
      "Total Performance:\n",
      "pred_speed : 0.7269081\n",
      "pred_change_of_step_size : 7.44e-06\n",
      "pred_path_length : 0.00225891\n",
      "pred_dist : 1.69324348\n",
      "physics_f_speed : 0.64902775\n",
      "physics_f_change_of_step_size : 7.17e-06\n",
      "physics_f_path_length : 0.00242646\n",
      "physics_f_dist : 1.69696024\n",
      "physics_b_speed : 0.6499614\n",
      "physics_b_change_of_step_size : 7.34e-06\n",
      "physics_b_path_length : 0.00239357\n",
      "physics_b_dist : 1.70962391\n",
      "static_hybrid_speed : 0.6327552\n",
      "static_hybrid_change_of_step_size : 6.81e-06\n",
      "static_hybrid_path_length : 0.00240879\n",
      "static_hybrid2_speed : 0.62020023\n",
      "static_hybrid2_change_of_step_size : 6.99e-06\n",
      "static_hybrid2_path_length : 0.00248064\n",
      "static_hybrid_dist : 1.64373574\n",
      "static_hybrid2_dist : 1.63704332\n",
      "train_hybrid_speed : 0.61762303\n",
      "train_hybrid_change_of_step_size : 6.93e-06\n",
      "train_hybrid_path_length : 0.00245594\n",
      "train_hybrid_dist : 1.63327142\n",
      "linear_speed : 1.15886676\n",
      "linear_change_of_step_size : 2.021e-05\n",
      "linear_path_length : 0.00573541\n",
      "linear_dist : 4.13439601\n",
      "knn_speed : 3.0950726\n",
      "knn_change_of_step_size : 0.00039716\n",
      "knn_path_length : 0.00634247\n",
      "knn_dist : 7.70675311\n",
      "forward_speed : 2.6943835\n",
      "forward_change_of_step_size : 0.00035481\n",
      "forward_path_length : 0.00573541\n",
      "forward_dist : 6.67439177\n"
     ]
    }
   ],
   "source": [
    "for path in test_data_paths:\n",
    "    print()\n",
    "    print(path,\":\")\n",
    "    match_traces = pd.read_csv(path, header=0, encoding=\"utf-8-sig\")\n",
    "    helper = trace_helper(traces=match_traces)\n",
    "\n",
    "    if model_name == \"nrtsi\":\n",
    "        ret, df_dict = helper.predict(model, gap_models=gap_models_dict, statistic_metrics=statistic_metrics, dataset=dataset)\n",
    "    else:\n",
    "        ret, df_dict = helper.predict(model, statistic_metrics=statistic_metrics, dataset=dataset)\n",
    "\n",
    "    for key, value in ret.items():\n",
    "        total_ret[key] += value\n",
    "        \n",
    "    print()\n",
    "\n",
    "print(\"Total Performance:\")\n",
    "print_helper(total_ret, model_keys, trial=trial, save_txt=True)\n",
    "\n",
    "torch.save(helper, f\"{save_path}/helper\")\n",
    "torch.save(df_dict, f\"{save_path}/df_dict\")"
   ]
  },
  {
   "attachments": {},
   "cell_type": "markdown",
   "metadata": {},
   "source": [
    "## Performance analysis"
   ]
  },
  {
   "cell_type": "markdown",
   "metadata": {},
   "source": [
    "##### (1) Get Main model results"
   ]
  },
  {
   "cell_type": "code",
   "execution_count": 7,
   "metadata": {},
   "outputs": [],
   "source": [
    "trial = 3003\n",
    "save_path = f\"saved/{trial:03d}\"\n",
    "if os.path.isfile(save_path + \"/df_dict\"):\n",
    "    helper =  torch.load(save_path + \"/helper\")\n",
    "    df_dict = torch.load(save_path + \"/df_dict\")\n",
    "    with open(f\"{save_path}/params.json\", \"r\") as f:\n",
    "        params = json.load(f)"
   ]
  },
  {
   "cell_type": "markdown",
   "metadata": {},
   "source": [
    "##### (2) Add baseline model results"
   ]
  },
  {
   "cell_type": "code",
   "execution_count": 8,
   "metadata": {},
   "outputs": [],
   "source": [
    "# trial_dict = {4000 : \"brits\", 5000 : \"naomi\", 214 : \"nrtsi\"} # Metrica\n",
    "trial_dict = {4003 : \"brits\", 5001 : \"naomi\", 6001 : \"nrtsi\", 9996 : \"graphimputer\"} # NBA\n",
    "for (t, model_name) in trial_dict.items():\n",
    "    save_path = f\"saved/{t:03d}\"\n",
    "    if os.path.isfile(save_path + \"/df_dict\"):\n",
    "        df_dict_ = torch.load(save_path + \"/df_dict\")\n",
    "        df_dict[f\"{model_name}_df\"] = df_dict_[\"pred_df\"]"
   ]
  },
  {
   "cell_type": "code",
   "execution_count": 9,
   "metadata": {},
   "outputs": [
    {
     "data": {
      "text/plain": [
       "dict_keys(['target_df', 'mask_df', 'pred_df', 'physics_f_df', 'physics_b_df', 'static_hybrid_df', 'static_hybrid2_df', 'train_hybrid_df', 'linear_df', 'knn_df', 'forward_df', 'train_hybrid_weights_df', 'brits_df', 'naomi_df', 'nrtsi_df', 'graphimputer_df'])"
      ]
     },
     "execution_count": 9,
     "metadata": {},
     "output_type": "execute_result"
    }
   ],
   "source": [
    "df_dict.keys()"
   ]
  },
  {
   "attachments": {},
   "cell_type": "markdown",
   "metadata": {},
   "source": [
    "### Animation"
   ]
  },
  {
   "attachments": {},
   "cell_type": "markdown",
   "metadata": {},
   "source": [
    "##### (1) Soccer Animator"
   ]
  },
  {
   "cell_type": "code",
   "execution_count": 10,
   "metadata": {},
   "outputs": [
    {
     "data": {
      "text/plain": [
       "array([  1,   2,   0,   4,   6,   8,  16,  18,  20,  22,  24,  26,  28,\n",
       "        30,  32,  36,  38,  41,  43,  44,  46,  48,  51,  53,  54,  55,\n",
       "        57,  58,  62,  63,  64,  66,  68,  70,  76,  80,  83,  85,  86,\n",
       "        88,  90,  92,  94,  95,  96,  97,  99, 101, 103, 105, 107, 111,\n",
       "       112, 114, 118, 120, 121, 123, 124, 126, 127, 129, 131, 133, 136,\n",
       "       138, 140, 142, 144, 145, 146, 148, 152, 154])"
      ]
     },
     "execution_count": 10,
     "metadata": {},
     "output_type": "execute_result"
    }
   ],
   "source": [
    "helper.traces[\"episode\"].unique()"
   ]
  },
  {
   "cell_type": "code",
   "execution_count": null,
   "metadata": {},
   "outputs": [],
   "source": [
    "i0 = 479\n",
    "i1 = 873\n",
    "\n",
    "animator = TraceAnimator(\n",
    "    trace_dict={\"main\": df_dict[\"target_df\"][i0:i1], \"pred\": df_dict[\"train_hybrid_df\"][i0:i1]},\n",
    "    mask = df_dict[\"mask_df\"][i0:i1],\n",
    "    show_episodes=True,\n",
    "    show_events=False,\n",
    "    show_frames=False,\n",
    "    show_polygon=True,\n",
    "    annot_cols=None,\n",
    ")\n",
    "anim = animator.run()\n",
    "\n",
    "path = f\"animations/trial_{trial}.mp4\"\n",
    "\n",
    "writer = animation.FFMpegWriter(fps=10)\n",
    "anim.save(path, writer=writer)"
   ]
  },
  {
   "attachments": {},
   "cell_type": "markdown",
   "metadata": {},
   "source": [
    "##### (2) Basketball Animator"
   ]
  },
  {
   "cell_type": "code",
   "execution_count": null,
   "metadata": {},
   "outputs": [],
   "source": [
    "i0 = 326\n",
    "i1 = 737\n",
    "animator = NBADataAnimator(\n",
    "    trace_dict={\"main\": df_dict[\"target_df\"][i0:i1], \"pred\": df_dict[\"train_hybrid_df\"][i0:i1]},\n",
    "    show_episodes=True,\n",
    "    show_frames=True,\n",
    "    masks = df_dict[\"mask_df\"][i0:i1],\n",
    ")\n",
    "anim = animator.run()\n",
    "\n",
    "path = f\"animations/trial_{trial}.mp4\"\n",
    "\n",
    "writer = animation.FFMpegWriter(fps=10)\n",
    "anim.save(path, writer=writer)"
   ]
  },
  {
   "cell_type": "markdown",
   "metadata": {},
   "source": [
    "### plotting"
   ]
  },
  {
   "cell_type": "code",
   "execution_count": 11,
   "metadata": {},
   "outputs": [
    {
     "name": "stdout",
     "output_type": "stream",
     "text": [
      "Valid episode idxs : [4, 6, 8, 16, 20, 22, 24, 26, 28, 30, 32, 36, 38, 41, 44, 48, 53, 54, 55, 57, 58, 62, 63, 64, 66, 70, 83, 85, 88, 94, 96, 99, 103, 111, 114, 118, 123, 124, 126, 127, 131, 136, 138, 140, 142, 144, 145, 154]\n"
     ]
    }
   ],
   "source": [
    "plot_mode = \"imputed_traj\" # \"imputed_traj\", \"dist_heatmap\", \"weights_heatmap\"\n",
    "dataset = params[\"dataset\"]\n",
    "visualizer = VisualizeHelper(trial, df_dict, plot_mode, dataset=dataset, helper=helper)\n",
    "visualizer.valid_episodes()"
   ]
  },
  {
   "cell_type": "code",
   "execution_count": 13,
   "metadata": {},
   "outputs": [
    {
     "name": "stdout",
     "output_type": "stream",
     "text": [
      "Plotting episode : 4\n",
      "Plot Mode : imputed_traj\n",
      "Saved path : plots/basketball/3003/imputed_traj/episode_4\n"
     ]
    }
   ],
   "source": [
    "visualizer.plot_run(epi_idx=0)\n",
    "plt.close()"
   ]
  }
 ],
 "metadata": {
  "kernelspec": {
   "display_name": "Python 3 (ipykernel)",
   "language": "python",
   "name": "python3"
  },
  "language_info": {
   "codemirror_mode": {
    "name": "ipython",
    "version": 3
   },
   "file_extension": ".py",
   "mimetype": "text/x-python",
   "name": "python",
   "nbconvert_exporter": "python",
   "pygments_lexer": "ipython3",
   "version": "3.8.18"
  },
  "vscode": {
   "interpreter": {
    "hash": "c44ecce01b6920a996c2e45a7791c773f725b79a727cce05b077a0ad48ece758"
   }
  }
 },
 "nbformat": 4,
 "nbformat_minor": 4
}
